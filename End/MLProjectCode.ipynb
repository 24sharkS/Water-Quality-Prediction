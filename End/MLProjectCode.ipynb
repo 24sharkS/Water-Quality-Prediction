{
  "nbformat": 4,
  "nbformat_minor": 0,
  "metadata": {
    "colab": {
      "name": "MLProjectCode.ipynb",
      "provenance": [],
      "collapsed_sections": []
    },
    "kernelspec": {
      "display_name": "Python 3",
      "language": "python",
      "name": "python3"
    },
    "language_info": {
      "codemirror_mode": {
        "name": "ipython",
        "version": 3
      },
      "file_extension": ".py",
      "mimetype": "text/x-python",
      "name": "python",
      "nbconvert_exporter": "python",
      "pygments_lexer": "ipython3",
      "version": "3.7.4"
    }
  },
  "cells": [
    {
      "cell_type": "code",
      "metadata": {
        "id": "XaFLpa2kbSky"
      },
      "source": [
        "import pandas as pd\r\n",
        "import numpy as np\r\n",
        "import matplotlib.pyplot as plt\r\n",
        "import seaborn as sbn"
      ],
      "execution_count": 125,
      "outputs": []
    },
    {
      "cell_type": "markdown",
      "metadata": {
        "id": "dygUeSFs5dkK"
      },
      "source": [
        "# Importing Data"
      ]
    },
    {
      "cell_type": "code",
      "metadata": {
        "id": "F8EknWClbSk0"
      },
      "source": [
        "file = pd.read_csv(\"/content/final_data.csv\")"
      ],
      "execution_count": 126,
      "outputs": []
    },
    {
      "cell_type": "code",
      "metadata": {
        "id": "3wQg7VgGbSk2",
        "scrolled": true,
        "colab": {
          "base_uri": "https://localhost:8080/"
        },
        "outputId": "dd49ed32-379a-4a32-8419-145c562566df"
      },
      "source": [
        "file.dtypes"
      ],
      "execution_count": 127,
      "outputs": [
        {
          "output_type": "execute_result",
          "data": {
            "text/plain": [
              "Station Number         float64\n",
              "State                   object\n",
              "Temp Min               float64\n",
              "Temp Max               float64\n",
              "DO Min                 float64\n",
              "DO Max                 float64\n",
              "pH Min                 float64\n",
              "pH Max                 float64\n",
              "Conductivity Min       float64\n",
              "Conductivity Max       float64\n",
              "BOD Min                float64\n",
              "BOD Max                float64\n",
              "Nitrate Min            float64\n",
              "Nitrate Max            float64\n",
              "Faecal Coliform Min    float64\n",
              "Faecal Coliform Max    float64\n",
              "Total Coliform Min     float64\n",
              "Total Coliform Max     float64\n",
              "dtype: object"
            ]
          },
          "metadata": {
            "tags": []
          },
          "execution_count": 127
        }
      ]
    },
    {
      "cell_type": "code",
      "metadata": {
        "id": "Y0vo4fASbSk5",
        "colab": {
          "base_uri": "https://localhost:8080/",
          "height": 502
        },
        "outputId": "378b0814-dfcf-4a08-b25d-2761c136694c"
      },
      "source": [
        "file"
      ],
      "execution_count": 128,
      "outputs": [
        {
          "output_type": "execute_result",
          "data": {
            "text/html": [
              "<div>\n",
              "<style scoped>\n",
              "    .dataframe tbody tr th:only-of-type {\n",
              "        vertical-align: middle;\n",
              "    }\n",
              "\n",
              "    .dataframe tbody tr th {\n",
              "        vertical-align: top;\n",
              "    }\n",
              "\n",
              "    .dataframe thead th {\n",
              "        text-align: right;\n",
              "    }\n",
              "</style>\n",
              "<table border=\"1\" class=\"dataframe\">\n",
              "  <thead>\n",
              "    <tr style=\"text-align: right;\">\n",
              "      <th></th>\n",
              "      <th>Station Number</th>\n",
              "      <th>State</th>\n",
              "      <th>Temp Min</th>\n",
              "      <th>Temp Max</th>\n",
              "      <th>DO Min</th>\n",
              "      <th>DO Max</th>\n",
              "      <th>pH Min</th>\n",
              "      <th>pH Max</th>\n",
              "      <th>Conductivity Min</th>\n",
              "      <th>Conductivity Max</th>\n",
              "      <th>BOD Min</th>\n",
              "      <th>BOD Max</th>\n",
              "      <th>Nitrate Min</th>\n",
              "      <th>Nitrate Max</th>\n",
              "      <th>Faecal Coliform Min</th>\n",
              "      <th>Faecal Coliform Max</th>\n",
              "      <th>Total Coliform Min</th>\n",
              "      <th>Total Coliform Max</th>\n",
              "    </tr>\n",
              "  </thead>\n",
              "  <tbody>\n",
              "    <tr>\n",
              "      <th>0</th>\n",
              "      <td>1867.0</td>\n",
              "      <td>HIMACHAL\\n PRADESH</td>\n",
              "      <td>9.0</td>\n",
              "      <td>12.0</td>\n",
              "      <td>9.7</td>\n",
              "      <td>10.1</td>\n",
              "      <td>6.80</td>\n",
              "      <td>8.00</td>\n",
              "      <td>92.0</td>\n",
              "      <td>366.0</td>\n",
              "      <td>0.1</td>\n",
              "      <td>0.2</td>\n",
              "      <td>0.2</td>\n",
              "      <td>0.200</td>\n",
              "      <td>2.0</td>\n",
              "      <td>2.0</td>\n",
              "      <td>20.0</td>\n",
              "      <td>20.0</td>\n",
              "    </tr>\n",
              "    <tr>\n",
              "      <th>1</th>\n",
              "      <td>2611.0</td>\n",
              "      <td>HIMACHAL\\n PRADESH</td>\n",
              "      <td>9.0</td>\n",
              "      <td>12.0</td>\n",
              "      <td>9.7</td>\n",
              "      <td>10.1</td>\n",
              "      <td>6.70</td>\n",
              "      <td>7.90</td>\n",
              "      <td>84.0</td>\n",
              "      <td>327.0</td>\n",
              "      <td>0.1</td>\n",
              "      <td>0.5</td>\n",
              "      <td>0.2</td>\n",
              "      <td>0.500</td>\n",
              "      <td>2.0</td>\n",
              "      <td>2.0</td>\n",
              "      <td>20.0</td>\n",
              "      <td>20.0</td>\n",
              "    </tr>\n",
              "    <tr>\n",
              "      <th>2</th>\n",
              "      <td>1389.0</td>\n",
              "      <td>HIMACHAL\\n PRADESH</td>\n",
              "      <td>12.0</td>\n",
              "      <td>17.0</td>\n",
              "      <td>9.1</td>\n",
              "      <td>9.6</td>\n",
              "      <td>6.80</td>\n",
              "      <td>8.10</td>\n",
              "      <td>92.0</td>\n",
              "      <td>330.0</td>\n",
              "      <td>0.1</td>\n",
              "      <td>0.5</td>\n",
              "      <td>0.2</td>\n",
              "      <td>0.400</td>\n",
              "      <td>2.0</td>\n",
              "      <td>2.0</td>\n",
              "      <td>20.0</td>\n",
              "      <td>20.0</td>\n",
              "    </tr>\n",
              "    <tr>\n",
              "      <th>3</th>\n",
              "      <td>1086.0</td>\n",
              "      <td>HIMACHAL\\n PRADESH</td>\n",
              "      <td>14.0</td>\n",
              "      <td>17.0</td>\n",
              "      <td>8.8</td>\n",
              "      <td>9.8</td>\n",
              "      <td>6.96</td>\n",
              "      <td>7.99</td>\n",
              "      <td>107.0</td>\n",
              "      <td>309.0</td>\n",
              "      <td>0.1</td>\n",
              "      <td>0.4</td>\n",
              "      <td>0.2</td>\n",
              "      <td>0.340</td>\n",
              "      <td>2.0</td>\n",
              "      <td>2.0</td>\n",
              "      <td>21.0</td>\n",
              "      <td>21.0</td>\n",
              "    </tr>\n",
              "    <tr>\n",
              "      <th>4</th>\n",
              "      <td>1087.0</td>\n",
              "      <td>HIMACHAL\\n PRADESH</td>\n",
              "      <td>14.0</td>\n",
              "      <td>17.0</td>\n",
              "      <td>8.7</td>\n",
              "      <td>9.2</td>\n",
              "      <td>6.91</td>\n",
              "      <td>8.04</td>\n",
              "      <td>102.0</td>\n",
              "      <td>298.0</td>\n",
              "      <td>0.1</td>\n",
              "      <td>0.2</td>\n",
              "      <td>0.2</td>\n",
              "      <td>0.513</td>\n",
              "      <td>2.0</td>\n",
              "      <td>2.0</td>\n",
              "      <td>25.0</td>\n",
              "      <td>25.0</td>\n",
              "    </tr>\n",
              "    <tr>\n",
              "      <th>...</th>\n",
              "      <td>...</td>\n",
              "      <td>...</td>\n",
              "      <td>...</td>\n",
              "      <td>...</td>\n",
              "      <td>...</td>\n",
              "      <td>...</td>\n",
              "      <td>...</td>\n",
              "      <td>...</td>\n",
              "      <td>...</td>\n",
              "      <td>...</td>\n",
              "      <td>...</td>\n",
              "      <td>...</td>\n",
              "      <td>...</td>\n",
              "      <td>...</td>\n",
              "      <td>...</td>\n",
              "      <td>...</td>\n",
              "      <td>...</td>\n",
              "      <td>...</td>\n",
              "    </tr>\n",
              "    <tr>\n",
              "      <th>4085</th>\n",
              "      <td>3023.0</td>\n",
              "      <td>TAMIL NADU</td>\n",
              "      <td>23.0</td>\n",
              "      <td>32.0</td>\n",
              "      <td>0.0</td>\n",
              "      <td>2.0</td>\n",
              "      <td>6.60</td>\n",
              "      <td>8.40</td>\n",
              "      <td>899.0</td>\n",
              "      <td>3060.0</td>\n",
              "      <td>20.0</td>\n",
              "      <td>915.0</td>\n",
              "      <td>0.1</td>\n",
              "      <td>4.300</td>\n",
              "      <td>940000.0</td>\n",
              "      <td>280000000.0</td>\n",
              "      <td>1400000.0</td>\n",
              "      <td>470000000.0</td>\n",
              "    </tr>\n",
              "    <tr>\n",
              "      <th>4086</th>\n",
              "      <td>3473.0</td>\n",
              "      <td>KERALA</td>\n",
              "      <td>26.0</td>\n",
              "      <td>32.0</td>\n",
              "      <td>4.6</td>\n",
              "      <td>7.7</td>\n",
              "      <td>6.10</td>\n",
              "      <td>7.40</td>\n",
              "      <td>60.0</td>\n",
              "      <td>43000.0</td>\n",
              "      <td>0.2</td>\n",
              "      <td>2.1</td>\n",
              "      <td>0.2</td>\n",
              "      <td>0.600</td>\n",
              "      <td>40.0</td>\n",
              "      <td>200.0</td>\n",
              "      <td>70.0</td>\n",
              "      <td>430.0</td>\n",
              "    </tr>\n",
              "    <tr>\n",
              "      <th>4087</th>\n",
              "      <td>3558.0</td>\n",
              "      <td>KARNATAKA</td>\n",
              "      <td>27.0</td>\n",
              "      <td>33.0</td>\n",
              "      <td>7.0</td>\n",
              "      <td>7.2</td>\n",
              "      <td>7.20</td>\n",
              "      <td>8.80</td>\n",
              "      <td>547.0</td>\n",
              "      <td>1594.0</td>\n",
              "      <td>2.0</td>\n",
              "      <td>3.0</td>\n",
              "      <td>0.1</td>\n",
              "      <td>0.400</td>\n",
              "      <td>170.0</td>\n",
              "      <td>1600.0</td>\n",
              "      <td>500.0</td>\n",
              "      <td>1600.0</td>\n",
              "    </tr>\n",
              "    <tr>\n",
              "      <th>4088</th>\n",
              "      <td>3562.0</td>\n",
              "      <td>KARNATAKA</td>\n",
              "      <td>26.0</td>\n",
              "      <td>32.0</td>\n",
              "      <td>6.2</td>\n",
              "      <td>6.7</td>\n",
              "      <td>6.70</td>\n",
              "      <td>7.60</td>\n",
              "      <td>52.0</td>\n",
              "      <td>96.0</td>\n",
              "      <td>1.0</td>\n",
              "      <td>1.0</td>\n",
              "      <td>0.0</td>\n",
              "      <td>0.000</td>\n",
              "      <td>11.0</td>\n",
              "      <td>350.0</td>\n",
              "      <td>26.0</td>\n",
              "      <td>1600.0</td>\n",
              "    </tr>\n",
              "    <tr>\n",
              "      <th>4089</th>\n",
              "      <td>3563.0</td>\n",
              "      <td>KARNATAKA</td>\n",
              "      <td>27.0</td>\n",
              "      <td>31.0</td>\n",
              "      <td>6.2</td>\n",
              "      <td>6.4</td>\n",
              "      <td>0.80</td>\n",
              "      <td>7.40</td>\n",
              "      <td>52.0</td>\n",
              "      <td>104.0</td>\n",
              "      <td>1.0</td>\n",
              "      <td>2.0</td>\n",
              "      <td>0.0</td>\n",
              "      <td>0.700</td>\n",
              "      <td>2.0</td>\n",
              "      <td>220.0</td>\n",
              "      <td>8.0</td>\n",
              "      <td>1600.0</td>\n",
              "    </tr>\n",
              "  </tbody>\n",
              "</table>\n",
              "<p>4090 rows × 18 columns</p>\n",
              "</div>"
            ],
            "text/plain": [
              "      Station Number  ... Total Coliform Max\n",
              "0             1867.0  ...               20.0\n",
              "1             2611.0  ...               20.0\n",
              "2             1389.0  ...               20.0\n",
              "3             1086.0  ...               21.0\n",
              "4             1087.0  ...               25.0\n",
              "...              ...  ...                ...\n",
              "4085          3023.0  ...        470000000.0\n",
              "4086          3473.0  ...              430.0\n",
              "4087          3558.0  ...             1600.0\n",
              "4088          3562.0  ...             1600.0\n",
              "4089          3563.0  ...             1600.0\n",
              "\n",
              "[4090 rows x 18 columns]"
            ]
          },
          "metadata": {
            "tags": []
          },
          "execution_count": 128
        }
      ]
    },
    {
      "cell_type": "code",
      "metadata": {
        "id": "5BYiFyWgbSk9"
      },
      "source": [
        "file1 = file.drop(['Conductivity Min','Conductivity Max','Total Coliform Min','Total Coliform Max'],axis= 1)\r\n",
        "file2 = file.copy(True)"
      ],
      "execution_count": 129,
      "outputs": []
    },
    {
      "cell_type": "code",
      "metadata": {
        "id": "3_amaP2hCYiT"
      },
      "source": [
        "file_penum = file1.dropna()\n",
        "file_penum2 = file2.dropna()"
      ],
      "execution_count": 130,
      "outputs": []
    },
    {
      "cell_type": "markdown",
      "metadata": {
        "id": "so-f_Zm6VnHk"
      },
      "source": [
        "# New Section"
      ]
    },
    {
      "cell_type": "code",
      "metadata": {
        "id": "Z42LreukbSlC",
        "colab": {
          "base_uri": "https://localhost:8080/",
          "height": 402
        },
        "outputId": "d93e0c96-15f5-4921-829f-417c1f5d6beb"
      },
      "source": [
        "# duplicate\n",
        "# duplicateRowsDF = file_penum[file_penum.duplicated()]\n",
        "# duplicateRowsDF\n",
        "file_penum.iloc[:,2:14]"
      ],
      "execution_count": 131,
      "outputs": [
        {
          "output_type": "execute_result",
          "data": {
            "text/html": [
              "<div>\n",
              "<style scoped>\n",
              "    .dataframe tbody tr th:only-of-type {\n",
              "        vertical-align: middle;\n",
              "    }\n",
              "\n",
              "    .dataframe tbody tr th {\n",
              "        vertical-align: top;\n",
              "    }\n",
              "\n",
              "    .dataframe thead th {\n",
              "        text-align: right;\n",
              "    }\n",
              "</style>\n",
              "<table border=\"1\" class=\"dataframe\">\n",
              "  <thead>\n",
              "    <tr style=\"text-align: right;\">\n",
              "      <th></th>\n",
              "      <th>Temp Min</th>\n",
              "      <th>Temp Max</th>\n",
              "      <th>DO Min</th>\n",
              "      <th>DO Max</th>\n",
              "      <th>pH Min</th>\n",
              "      <th>pH Max</th>\n",
              "      <th>BOD Min</th>\n",
              "      <th>BOD Max</th>\n",
              "      <th>Nitrate Min</th>\n",
              "      <th>Nitrate Max</th>\n",
              "      <th>Faecal Coliform Min</th>\n",
              "      <th>Faecal Coliform Max</th>\n",
              "    </tr>\n",
              "  </thead>\n",
              "  <tbody>\n",
              "    <tr>\n",
              "      <th>0</th>\n",
              "      <td>9.0</td>\n",
              "      <td>12.0</td>\n",
              "      <td>9.7</td>\n",
              "      <td>10.1</td>\n",
              "      <td>6.80</td>\n",
              "      <td>8.00</td>\n",
              "      <td>0.1</td>\n",
              "      <td>0.2</td>\n",
              "      <td>0.2</td>\n",
              "      <td>0.200</td>\n",
              "      <td>2.0</td>\n",
              "      <td>2.0</td>\n",
              "    </tr>\n",
              "    <tr>\n",
              "      <th>1</th>\n",
              "      <td>9.0</td>\n",
              "      <td>12.0</td>\n",
              "      <td>9.7</td>\n",
              "      <td>10.1</td>\n",
              "      <td>6.70</td>\n",
              "      <td>7.90</td>\n",
              "      <td>0.1</td>\n",
              "      <td>0.5</td>\n",
              "      <td>0.2</td>\n",
              "      <td>0.500</td>\n",
              "      <td>2.0</td>\n",
              "      <td>2.0</td>\n",
              "    </tr>\n",
              "    <tr>\n",
              "      <th>2</th>\n",
              "      <td>12.0</td>\n",
              "      <td>17.0</td>\n",
              "      <td>9.1</td>\n",
              "      <td>9.6</td>\n",
              "      <td>6.80</td>\n",
              "      <td>8.10</td>\n",
              "      <td>0.1</td>\n",
              "      <td>0.5</td>\n",
              "      <td>0.2</td>\n",
              "      <td>0.400</td>\n",
              "      <td>2.0</td>\n",
              "      <td>2.0</td>\n",
              "    </tr>\n",
              "    <tr>\n",
              "      <th>3</th>\n",
              "      <td>14.0</td>\n",
              "      <td>17.0</td>\n",
              "      <td>8.8</td>\n",
              "      <td>9.8</td>\n",
              "      <td>6.96</td>\n",
              "      <td>7.99</td>\n",
              "      <td>0.1</td>\n",
              "      <td>0.4</td>\n",
              "      <td>0.2</td>\n",
              "      <td>0.340</td>\n",
              "      <td>2.0</td>\n",
              "      <td>2.0</td>\n",
              "    </tr>\n",
              "    <tr>\n",
              "      <th>4</th>\n",
              "      <td>14.0</td>\n",
              "      <td>17.0</td>\n",
              "      <td>8.7</td>\n",
              "      <td>9.2</td>\n",
              "      <td>6.91</td>\n",
              "      <td>8.04</td>\n",
              "      <td>0.1</td>\n",
              "      <td>0.2</td>\n",
              "      <td>0.2</td>\n",
              "      <td>0.513</td>\n",
              "      <td>2.0</td>\n",
              "      <td>2.0</td>\n",
              "    </tr>\n",
              "    <tr>\n",
              "      <th>...</th>\n",
              "      <td>...</td>\n",
              "      <td>...</td>\n",
              "      <td>...</td>\n",
              "      <td>...</td>\n",
              "      <td>...</td>\n",
              "      <td>...</td>\n",
              "      <td>...</td>\n",
              "      <td>...</td>\n",
              "      <td>...</td>\n",
              "      <td>...</td>\n",
              "      <td>...</td>\n",
              "      <td>...</td>\n",
              "    </tr>\n",
              "    <tr>\n",
              "      <th>4085</th>\n",
              "      <td>23.0</td>\n",
              "      <td>32.0</td>\n",
              "      <td>0.0</td>\n",
              "      <td>2.0</td>\n",
              "      <td>6.60</td>\n",
              "      <td>8.40</td>\n",
              "      <td>20.0</td>\n",
              "      <td>915.0</td>\n",
              "      <td>0.1</td>\n",
              "      <td>4.300</td>\n",
              "      <td>940000.0</td>\n",
              "      <td>280000000.0</td>\n",
              "    </tr>\n",
              "    <tr>\n",
              "      <th>4086</th>\n",
              "      <td>26.0</td>\n",
              "      <td>32.0</td>\n",
              "      <td>4.6</td>\n",
              "      <td>7.7</td>\n",
              "      <td>6.10</td>\n",
              "      <td>7.40</td>\n",
              "      <td>0.2</td>\n",
              "      <td>2.1</td>\n",
              "      <td>0.2</td>\n",
              "      <td>0.600</td>\n",
              "      <td>40.0</td>\n",
              "      <td>200.0</td>\n",
              "    </tr>\n",
              "    <tr>\n",
              "      <th>4087</th>\n",
              "      <td>27.0</td>\n",
              "      <td>33.0</td>\n",
              "      <td>7.0</td>\n",
              "      <td>7.2</td>\n",
              "      <td>7.20</td>\n",
              "      <td>8.80</td>\n",
              "      <td>2.0</td>\n",
              "      <td>3.0</td>\n",
              "      <td>0.1</td>\n",
              "      <td>0.400</td>\n",
              "      <td>170.0</td>\n",
              "      <td>1600.0</td>\n",
              "    </tr>\n",
              "    <tr>\n",
              "      <th>4088</th>\n",
              "      <td>26.0</td>\n",
              "      <td>32.0</td>\n",
              "      <td>6.2</td>\n",
              "      <td>6.7</td>\n",
              "      <td>6.70</td>\n",
              "      <td>7.60</td>\n",
              "      <td>1.0</td>\n",
              "      <td>1.0</td>\n",
              "      <td>0.0</td>\n",
              "      <td>0.000</td>\n",
              "      <td>11.0</td>\n",
              "      <td>350.0</td>\n",
              "    </tr>\n",
              "    <tr>\n",
              "      <th>4089</th>\n",
              "      <td>27.0</td>\n",
              "      <td>31.0</td>\n",
              "      <td>6.2</td>\n",
              "      <td>6.4</td>\n",
              "      <td>0.80</td>\n",
              "      <td>7.40</td>\n",
              "      <td>1.0</td>\n",
              "      <td>2.0</td>\n",
              "      <td>0.0</td>\n",
              "      <td>0.700</td>\n",
              "      <td>2.0</td>\n",
              "      <td>220.0</td>\n",
              "    </tr>\n",
              "  </tbody>\n",
              "</table>\n",
              "<p>3938 rows × 12 columns</p>\n",
              "</div>"
            ],
            "text/plain": [
              "      Temp Min  Temp Max  ...  Faecal Coliform Min  Faecal Coliform Max\n",
              "0          9.0      12.0  ...                  2.0                  2.0\n",
              "1          9.0      12.0  ...                  2.0                  2.0\n",
              "2         12.0      17.0  ...                  2.0                  2.0\n",
              "3         14.0      17.0  ...                  2.0                  2.0\n",
              "4         14.0      17.0  ...                  2.0                  2.0\n",
              "...        ...       ...  ...                  ...                  ...\n",
              "4085      23.0      32.0  ...             940000.0          280000000.0\n",
              "4086      26.0      32.0  ...                 40.0                200.0\n",
              "4087      27.0      33.0  ...                170.0               1600.0\n",
              "4088      26.0      32.0  ...                 11.0                350.0\n",
              "4089      27.0      31.0  ...                  2.0                220.0\n",
              "\n",
              "[3938 rows x 12 columns]"
            ]
          },
          "metadata": {
            "tags": []
          },
          "execution_count": 131
        }
      ]
    },
    {
      "cell_type": "markdown",
      "metadata": {
        "id": "U5dBjPz6h4e5"
      },
      "source": [
        "## Pandas to Numpy array"
      ]
    },
    {
      "cell_type": "code",
      "metadata": {
        "id": "0uvIdhLNbSlI"
      },
      "source": [
        "data1_wqi = np.array(file_penum.iloc[:,2:14])\r\n",
        "data2_bod = np.array(file_penum2.iloc[:,2:])"
      ],
      "execution_count": 132,
      "outputs": []
    },
    {
      "cell_type": "code",
      "metadata": {
        "id": "Z1YN4F0fbSlK",
        "colab": {
          "base_uri": "https://localhost:8080/"
        },
        "outputId": "a0ec0726-6b12-47b3-81c6-59605507897b"
      },
      "source": [
        "data2_bod.shape"
      ],
      "execution_count": 133,
      "outputs": [
        {
          "output_type": "execute_result",
          "data": {
            "text/plain": [
              "(3931, 16)"
            ]
          },
          "metadata": {
            "tags": []
          },
          "execution_count": 133
        }
      ]
    },
    {
      "cell_type": "code",
      "metadata": {
        "id": "VwFb6ndnbSlM",
        "colab": {
          "base_uri": "https://localhost:8080/"
        },
        "outputId": "3b1f1dc5-627e-4126-d9c9-b9f62d7c5e44"
      },
      "source": [
        "data1_wqi.shape"
      ],
      "execution_count": 134,
      "outputs": [
        {
          "output_type": "execute_result",
          "data": {
            "text/plain": [
              "(3938, 12)"
            ]
          },
          "metadata": {
            "tags": []
          },
          "execution_count": 134
        }
      ]
    },
    {
      "cell_type": "code",
      "metadata": {
        "id": "xFo4zbqfbSlP"
      },
      "source": [
        "final_col_list1 = []\n",
        "final_col_list2 = []\n",
        "\n",
        "# For data1_wqi\n",
        "final_col_list1.append(data1_wqi[:,1] - data1_wqi[:,0])\n",
        "for i in range(2,12,2):\n",
        "    col_mean = (data1_wqi[:,i] + data1_wqi[:,i+1])/2\n",
        "    final_col_list1.append(col_mean)\n",
        "\n",
        "# For data2_bod\n",
        "final_col_list2.append(data2_bod[:,1] - data2_bod[:,0])\n",
        "for i in range(2,16,2):\n",
        "    col_mean = (data2_bod[:,i] + data2_bod[:,i+1])/2\n",
        "    final_col_list2.append(col_mean)\n",
        "\n",
        "# transpose this\n",
        "tmp_arr_wqi = np.array(final_col_list1)\n",
        "tmp_arr_bod = np.array(final_col_list2)"
      ],
      "execution_count": 135,
      "outputs": []
    },
    {
      "cell_type": "code",
      "metadata": {
        "id": "WL_Q7zJ8bSlR",
        "colab": {
          "base_uri": "https://localhost:8080/"
        },
        "outputId": "201e45ce-adb8-441a-d7ab-a273fc488489"
      },
      "source": [
        "# convert this to pandas dataframe\n",
        "tmp_arr_wqi.T"
      ],
      "execution_count": 136,
      "outputs": [
        {
          "output_type": "execute_result",
          "data": {
            "text/plain": [
              "array([[3.000e+00, 9.900e+00, 7.400e+00, 1.500e-01, 2.000e-01, 2.000e+00],\n",
              "       [3.000e+00, 9.900e+00, 7.300e+00, 3.000e-01, 3.500e-01, 2.000e+00],\n",
              "       [5.000e+00, 9.350e+00, 7.450e+00, 3.000e-01, 3.000e-01, 2.000e+00],\n",
              "       ...,\n",
              "       [6.000e+00, 7.100e+00, 8.000e+00, 2.500e+00, 2.500e-01, 8.850e+02],\n",
              "       [6.000e+00, 6.450e+00, 7.150e+00, 1.000e+00, 0.000e+00, 1.805e+02],\n",
              "       [4.000e+00, 6.300e+00, 4.100e+00, 1.500e+00, 3.500e-01, 1.110e+02]])"
            ]
          },
          "metadata": {
            "tags": []
          },
          "execution_count": 136
        }
      ]
    },
    {
      "cell_type": "code",
      "metadata": {
        "id": "5YpkCWTIbSlT",
        "colab": {
          "base_uri": "https://localhost:8080/",
          "height": 402
        },
        "outputId": "9e0e16e0-767a-4c45-97fa-247038d40040"
      },
      "source": [
        "# final_preprocessed data\n",
        "final_df_wqi = pd.DataFrame(tmp_arr_wqi.T,columns = ['Temp','DO','pH','BOD','Nitrate','Faecal Coliform'])\n",
        "final_df_wqi\n",
        "\n",
        "final_df_bod = pd.DataFrame(tmp_arr_bod.T,columns = ['Temp','DO','pH','Conductivity','BOD','Nitrate','Faecal Coliform','Total Coliform'])\n",
        "final_df_bod"
      ],
      "execution_count": 137,
      "outputs": [
        {
          "output_type": "execute_result",
          "data": {
            "text/html": [
              "<div>\n",
              "<style scoped>\n",
              "    .dataframe tbody tr th:only-of-type {\n",
              "        vertical-align: middle;\n",
              "    }\n",
              "\n",
              "    .dataframe tbody tr th {\n",
              "        vertical-align: top;\n",
              "    }\n",
              "\n",
              "    .dataframe thead th {\n",
              "        text-align: right;\n",
              "    }\n",
              "</style>\n",
              "<table border=\"1\" class=\"dataframe\">\n",
              "  <thead>\n",
              "    <tr style=\"text-align: right;\">\n",
              "      <th></th>\n",
              "      <th>Temp</th>\n",
              "      <th>DO</th>\n",
              "      <th>pH</th>\n",
              "      <th>Conductivity</th>\n",
              "      <th>BOD</th>\n",
              "      <th>Nitrate</th>\n",
              "      <th>Faecal Coliform</th>\n",
              "      <th>Total Coliform</th>\n",
              "    </tr>\n",
              "  </thead>\n",
              "  <tbody>\n",
              "    <tr>\n",
              "      <th>0</th>\n",
              "      <td>3.0</td>\n",
              "      <td>9.90</td>\n",
              "      <td>7.400</td>\n",
              "      <td>229.0</td>\n",
              "      <td>0.15</td>\n",
              "      <td>0.2000</td>\n",
              "      <td>2.0</td>\n",
              "      <td>20.0</td>\n",
              "    </tr>\n",
              "    <tr>\n",
              "      <th>1</th>\n",
              "      <td>3.0</td>\n",
              "      <td>9.90</td>\n",
              "      <td>7.300</td>\n",
              "      <td>205.5</td>\n",
              "      <td>0.30</td>\n",
              "      <td>0.3500</td>\n",
              "      <td>2.0</td>\n",
              "      <td>20.0</td>\n",
              "    </tr>\n",
              "    <tr>\n",
              "      <th>2</th>\n",
              "      <td>5.0</td>\n",
              "      <td>9.35</td>\n",
              "      <td>7.450</td>\n",
              "      <td>211.0</td>\n",
              "      <td>0.30</td>\n",
              "      <td>0.3000</td>\n",
              "      <td>2.0</td>\n",
              "      <td>20.0</td>\n",
              "    </tr>\n",
              "    <tr>\n",
              "      <th>3</th>\n",
              "      <td>3.0</td>\n",
              "      <td>9.30</td>\n",
              "      <td>7.475</td>\n",
              "      <td>208.0</td>\n",
              "      <td>0.25</td>\n",
              "      <td>0.2700</td>\n",
              "      <td>2.0</td>\n",
              "      <td>21.0</td>\n",
              "    </tr>\n",
              "    <tr>\n",
              "      <th>4</th>\n",
              "      <td>3.0</td>\n",
              "      <td>8.95</td>\n",
              "      <td>7.475</td>\n",
              "      <td>200.0</td>\n",
              "      <td>0.15</td>\n",
              "      <td>0.3565</td>\n",
              "      <td>2.0</td>\n",
              "      <td>25.0</td>\n",
              "    </tr>\n",
              "    <tr>\n",
              "      <th>...</th>\n",
              "      <td>...</td>\n",
              "      <td>...</td>\n",
              "      <td>...</td>\n",
              "      <td>...</td>\n",
              "      <td>...</td>\n",
              "      <td>...</td>\n",
              "      <td>...</td>\n",
              "      <td>...</td>\n",
              "    </tr>\n",
              "    <tr>\n",
              "      <th>3926</th>\n",
              "      <td>9.0</td>\n",
              "      <td>1.00</td>\n",
              "      <td>7.500</td>\n",
              "      <td>1979.5</td>\n",
              "      <td>467.50</td>\n",
              "      <td>2.2000</td>\n",
              "      <td>140470000.0</td>\n",
              "      <td>235700000.0</td>\n",
              "    </tr>\n",
              "    <tr>\n",
              "      <th>3927</th>\n",
              "      <td>6.0</td>\n",
              "      <td>6.15</td>\n",
              "      <td>6.750</td>\n",
              "      <td>21530.0</td>\n",
              "      <td>1.15</td>\n",
              "      <td>0.4000</td>\n",
              "      <td>120.0</td>\n",
              "      <td>250.0</td>\n",
              "    </tr>\n",
              "    <tr>\n",
              "      <th>3928</th>\n",
              "      <td>6.0</td>\n",
              "      <td>7.10</td>\n",
              "      <td>8.000</td>\n",
              "      <td>1070.5</td>\n",
              "      <td>2.50</td>\n",
              "      <td>0.2500</td>\n",
              "      <td>885.0</td>\n",
              "      <td>1050.0</td>\n",
              "    </tr>\n",
              "    <tr>\n",
              "      <th>3929</th>\n",
              "      <td>6.0</td>\n",
              "      <td>6.45</td>\n",
              "      <td>7.150</td>\n",
              "      <td>74.0</td>\n",
              "      <td>1.00</td>\n",
              "      <td>0.0000</td>\n",
              "      <td>180.5</td>\n",
              "      <td>813.0</td>\n",
              "    </tr>\n",
              "    <tr>\n",
              "      <th>3930</th>\n",
              "      <td>4.0</td>\n",
              "      <td>6.30</td>\n",
              "      <td>4.100</td>\n",
              "      <td>78.0</td>\n",
              "      <td>1.50</td>\n",
              "      <td>0.3500</td>\n",
              "      <td>111.0</td>\n",
              "      <td>804.0</td>\n",
              "    </tr>\n",
              "  </tbody>\n",
              "</table>\n",
              "<p>3931 rows × 8 columns</p>\n",
              "</div>"
            ],
            "text/plain": [
              "      Temp    DO     pH  ...  Nitrate  Faecal Coliform  Total Coliform\n",
              "0      3.0  9.90  7.400  ...   0.2000              2.0            20.0\n",
              "1      3.0  9.90  7.300  ...   0.3500              2.0            20.0\n",
              "2      5.0  9.35  7.450  ...   0.3000              2.0            20.0\n",
              "3      3.0  9.30  7.475  ...   0.2700              2.0            21.0\n",
              "4      3.0  8.95  7.475  ...   0.3565              2.0            25.0\n",
              "...    ...   ...    ...  ...      ...              ...             ...\n",
              "3926   9.0  1.00  7.500  ...   2.2000      140470000.0     235700000.0\n",
              "3927   6.0  6.15  6.750  ...   0.4000            120.0           250.0\n",
              "3928   6.0  7.10  8.000  ...   0.2500            885.0          1050.0\n",
              "3929   6.0  6.45  7.150  ...   0.0000            180.5           813.0\n",
              "3930   4.0  6.30  4.100  ...   0.3500            111.0           804.0\n",
              "\n",
              "[3931 rows x 8 columns]"
            ]
          },
          "metadata": {
            "tags": []
          },
          "execution_count": 137
        }
      ]
    },
    {
      "cell_type": "markdown",
      "metadata": {
        "id": "ECaW90uIfchJ"
      },
      "source": [
        "## Initial Weights as in paper\n",
        "- Temp - 0.10\n",
        "- DO - 0.17\n",
        "- pH - 0.11\n",
        "- BOD - 0.11\n",
        "- Nitrate - 0.10\n",
        "- Faecal Coliform - 0.16\n",
        "\n",
        "## Initial weights adjusted\n",
        "- Temp - 0.1333333333333333\n",
        "- DO - 0.2266666666666667\n",
        "- pH - 0.1466666666666667\n",
        "- BOD - 0.1466666666666667\n",
        "- Nitrate - 0.1333333333333333\n",
        "- Faecal Coliform - 0.2133333333333333"
      ]
    },
    {
      "cell_type": "markdown",
      "metadata": {
        "id": "nAXmn74ghqlL"
      },
      "source": [
        "Water Quality Index\n",
        "\n",
        "\tWQI is computed for each factor as the product of Q-value and weighting factor. \n",
        "\n",
        "WQI = Q-value x Weighting factor\n",
        "\n",
        "The overall WQI is the weighted average of all Q-values:\n",
        "\n",
        "Overall WQI = (Q-value x Weighting factor) / Weighting factors\n",
        "\n",
        "\n"
      ]
    },
    {
      "cell_type": "code",
      "metadata": {
        "id": "vHVcjb1-_Ra8"
      },
      "source": [
        "# Initial factor values for each factor\n",
        "weight_factor = np.array([0.1333333333333333,0.2266666666666667,0.1466666666666667,0.1466666666666667,0.1333333333333333,0.2133333333333333])"
      ],
      "execution_count": 138,
      "outputs": []
    },
    {
      "cell_type": "code",
      "metadata": {
        "id": "9ff0Aa8G2FMJ"
      },
      "source": [
        "map_do = {(0,5):[2,5],(5,10):[5,7],(10,15):[7,10],(15,20):[5,7],(15,20):[10,12],\n",
        "           (20,25):[12,15],(25,30):[15,19],(30,35):[19,23],\n",
        "           (35,40):[23,30],(40,45):[30,37],(45,50):[37,44],\n",
        "           (50,55):[44,51],(55,60):[51,57],(60,65):[57,66],\n",
        "           (65,70):[66,75],(70,75):[75,81],\n",
        "           (75,80):[81,87],(80,85):[87,91],\n",
        "           (85,90):[91,95],(90,95):[95,98],\n",
        "           (95,100):[98,99],(100,105):[99,98],\n",
        "           (105,110):[98,96],(110,115):[96,93],\n",
        "           (115,120):[93,90],(120,125):[90,87],\n",
        "           (125,130):[87,84],(130,135):[84,81],\n",
        "           (135,140):[81,78]}\n",
        "\n",
        "def q_do(val):\n",
        "  if val > 140:\n",
        "    return 50\n",
        "  for range in map_do:\n",
        "    if val == range[0]:\n",
        "      return map_do[range][0]\n",
        "    elif val == range[1]:\n",
        "      return map_do[range][1]\n",
        "    elif  range[0] < val < range[1]:\n",
        "      diff = (map_do[range][1] - map_do[range][0])/(range[1]-range[0])\n",
        "      res =  map_do[range][0] + diff * (val - range[0])\n",
        "      return res\n",
        "# print(q_do(9))"
      ],
      "execution_count": 139,
      "outputs": []
    },
    {
      "cell_type": "code",
      "metadata": {
        "id": "FlswjtmwhfYC"
      },
      "source": [
        "map_ph = {(2.2,2.4):[2,3],(2.4,2.6):[3,3],(2.6,2.8):[3,4],\n",
        "          (2.8,3):[4,4],(3,3.2):[4,5],(3.2,3.4):[5,6],\n",
        "          (3.4,3.6):[6,7],(3.6,3.8):[7,8],(3.8,4):[8,9],\n",
        "          (4,4.2):[9,11],(4.2,4.4):[11,14],(4.4,4.6):[14,17],\n",
        "          (4.6,4.8):[17,20],(4.8,5):[20,27],(5,5.2):[27,33],\n",
        "          (5.2,5.4):[33,38],(5.4,5.6):[38,44],(5.6,5.8):[44,49],\n",
        "          (5.8,6):[49,55],(6,6.2):[55,60],(6.2,6.4):[60,68],\n",
        "          (6.4,6.6):[68,75],(6.6,6.8):[75,83],(6.8,7):[83,88],\n",
        "          (7,7.2):[88,92],(7.2,7.4):[92,92],(7.4,7.6):[92,92],\n",
        "          (7.6,7.8):[92,90],(7.8,8):[90,84],(8,8.2):[84,77],\n",
        "          (8.2,8.4):[77,70],(8.4,8.6):[70,63],(8.6,8.8):[63,56],\n",
        "          (8.8,9):[56,49],(9,9.2):[49,42],(9.2,9.4):[42,36],\n",
        "          (9.4,9.6):[36,29],(9.6,9.8):[29,24],(9.8,10):[24,20],\n",
        "          (10,10.2):[20,17],(10.2,10.4):[17,14],(10.4,10.6):[14,12],\n",
        "          (10.6,10.8):[12,10],(10.8,11):[10,8],(11,11.2):[8,7],\n",
        "          (11.2,11.4):[7,6],(11.4,11.6):[6,5],(11.6,11.8):[5,4],\n",
        "          (11.8,12):[4,3]}\n",
        "\n",
        "def q_ph(val):\n",
        "  if val < 2 or val > 12:\n",
        "    return 0\n",
        "  for range in map_ph:\n",
        "    if val == range[0]:\n",
        "      return map_ph[range][0]\n",
        "    elif val == range[1]:\n",
        "      return map_ph[range][1]\n",
        "    elif range[0] < val < range[1]:\n",
        "      diff = (map_ph[range][1]-map_ph[range][0]) / (range[1]-range[0])\n",
        "      return map_ph[range][0]+diff*(val-range[0])"
      ],
      "execution_count": 140,
      "outputs": []
    },
    {
      "cell_type": "code",
      "metadata": {
        "id": "hwWLWtpIims6"
      },
      "source": [
        "map_bod = {(0,1):[100,95],(1,2):[95,80],(2,3):[80,67],\n",
        "            (3,4):[67,61],(4,5):[61,56],(5,6):[56,51],\n",
        "            (6,7):[51,46],(7,8):[46,42],(8,9):[42,38],\n",
        "            (9,10):[38,34],(10,11):[34,30],(11,12):[30,28],(12,13):[28,25],\n",
        "            (13,14):[25,23],(14,15):[23,20],(15,16):[20,18],(16,17):[18,16],\n",
        "            (17,18):[16,14],(18,19):[14,13],(19,20):[13,12],\n",
        "            (20,21):[12,11],(21,22):[11,10],(22,23):[10,9],(23,24):[9,8],\n",
        "            (24,25):[8,7],(25,26):[7,7],(26,27):[7,6],(27,28):[6,6],\n",
        "            (28,29):[6,5],(29,30):[5,5]\n",
        "            }\n",
        "def q_bod(val):\n",
        "  if val > 30:\n",
        "    return 2\n",
        "  for range in map_bod:\n",
        "    if val == range[0]:\n",
        "      return map_bod[range][0]\n",
        "    elif val == range[1]:\n",
        "      return map_bod[range][1]\n",
        "    elif range[0] < val < range[1]:\n",
        "      diff = (map_bod[range][1]-map_bod[range][0]) / (range[1]-range[0])\n",
        "      return map_bod[range][0]+diff*(val-range[0])\n",
        "      [range][0]+diff*(val-range[0])\n",
        "# print(q_bod(2.5))"
      ],
      "execution_count": 141,
      "outputs": []
    },
    {
      "cell_type": "code",
      "metadata": {
        "id": "JTJ19131jLVl"
      },
      "source": [
        "map_faecal = {(1,2):[99,91],(2,3):[91,86],(3,4):[86,82],(4,5):[82,80],\n",
        "              (5,6):[80,78],(6,7):[78,76],(7,8):[76,74],(8,9):[74,73],\n",
        "              (9,10):[73,72],(10,20):[72,63],(20,30):[63,58],(30,40):[58,55],\n",
        "              (40,50):[55,52],(50,60):[52,50],(60,70):[50,48],(70,80):[48,47],\n",
        "              (80,90):[47,45],(90,100):[45,44],(100,200):[44,37],(200,300):[37,34],\n",
        "              (300,400):[34,31],(400,500):[31,29],(500,600):[29,27],(600,700):[27,25],\n",
        "              (700,800):[25,24],(800,900):[24,23],(900,1000):[23,22],(1000,2000):[22,18],\n",
        "              (2000,3000):[18,16],(3000,4000):[16,15],(4000,5000):[15,14],\n",
        "              (5000,6000):[14,13],(6000,7000):[13,12],(7000,8000):[12,11],(8000,9000):[11,11],\n",
        "              (9000,10000):[11,10],(10000,20000):[10,8],(20000,30000):[8,7],\n",
        "              (30000,40000):[7,6],(40000,50000):[6,6],(50000,60000):[6,5],\n",
        "              (60000,70000):[5,5],(70000,80000):[5,5],(80000,90000):[5,4],\n",
        "              (90000,100000):[4,4]\n",
        "              }\n",
        "\n",
        "def q_faecal(val):\n",
        "    if val > 100000:\n",
        "        return 2\n",
        "    if val <= 0:\n",
        "        return 99\n",
        "    for range in map_faecal:\n",
        "        if val == range[0]:\n",
        "            return map_faecal[range][0]\n",
        "        elif val == range[1]:\n",
        "            return map_faecal[range][1]\n",
        "        elif range[0] < val < range[1]:\n",
        "            diff = (map_faecal[range][1]-map_faecal[range][0]) / (range[1]-range[0])\n",
        "            return map_faecal[range][0]+diff*(val-range[0])\n",
        "# print(q_faecal(2))"
      ],
      "execution_count": 142,
      "outputs": []
    },
    {
      "cell_type": "code",
      "metadata": {
        "id": "C3SYw8Z5jc-t"
      },
      "source": [
        "map_nitrate = {(0,1):[97,96],(1,2):[96,95],(2,3):[95,90],(3,4):[90,70],\n",
        "               (4,5):[70,65],(5,6):[65,60],(6,7):[60,58],(7,8):[58,56],\n",
        "               (8,9):[56,53],(9,10):[53,51],(10,12):[51,48],(12,14):[48,45],\n",
        "               (14,16):[45,42],(16,18):[42,39],(18,20):[39,37],(20,22):[37,35],\n",
        "               (22,24):[35,33],(24,26):[33,31],(26,28):[31,29],(28,30):[29,27],\n",
        "               (30,32):[27,25],(32,34):[25,23],(34,36):[23,21],(36,38):[21,19],\n",
        "               (38,40):[19,18],(40,42):[18,16],(42,44):[16,15],(44,46):[15,13],\n",
        "               (46,48):[13,12],(48,50):[12,10],(50,52):[10,9],(52,54):[9,8],\n",
        "               (54,56):[8,8],(56,58):[8,7],(58,60):[7,7],(60,62):[7,6],\n",
        "               (62,64):[6,6],(64,66):[6,6],(66,68):[6,5],(68,70):[5,5],\n",
        "               (70,80):[5,4],(80,90):[4,3],(90,100):[3,3]\n",
        "}\n",
        "def q_nitrate(val):\n",
        "  if val > 100:\n",
        "    return 1\n",
        "  for range in map_nitrate:\n",
        "    if val == range[0]:\n",
        "      return map_nitrate[range][0]\n",
        "    elif val == range[1]:\n",
        "      return map_nitrate[range][1]\n",
        "    elif range[0] < val < range[1]:\n",
        "      diff = (map_nitrate[range][1]-map_nitrate[range][0]) / (range[1]-range[0])\n",
        "      return map_nitrate[range][0]+diff*(val-range[0])\n",
        "\n",
        "# print(q_nitrate(101))"
      ],
      "execution_count": 143,
      "outputs": []
    },
    {
      "cell_type": "code",
      "metadata": {
        "id": "6k7TcJuGmM9c"
      },
      "source": [
        "map_temp={(-10, -9): [55,59],\n",
        " (-9, -8): [59,63],\n",
        " (-8, -7): [63,66],\n",
        " (-7, -6): [66,70],\n",
        " (-6, -5): [70,74],\n",
        " (-5, -4): [74,78],\n",
        " (-4, -3): [78,82],\n",
        " (-3, -2): [82,85],\n",
        " (-2, -1): [85,89],\n",
        " (-1, 0): [89,93],\n",
        " (0, 1): [93,89],\n",
        " (1, 2): [89,85],\n",
        " (2, 3): [85,81],\n",
        " (3, 4): [81,77],\n",
        " (4, 5): [77,73],\n",
        " (5, 6): [73,67],\n",
        " (6, 7): [67,61],\n",
        " (7, 8): [61,56],\n",
        " (8, 9): [56,50],\n",
        " (9, 10): [50,45],\n",
        " (10, 11): [45,40],\n",
        " (11, 12): [40,36],\n",
        " (12, 13): [36,34],\n",
        " (13, 14): [34,33],\n",
        " (14, 15): [33,31],\n",
        " (15, 16): [31,29],\n",
        " (16, 17): [29,27],\n",
        " (17, 18): [27,26],\n",
        " (18, 19): [26,24],\n",
        " (19, 20): [24,22],\n",
        " (20, 21): [22,20],\n",
        " (21, 22): [20,19],\n",
        " (22, 23): [19,18],\n",
        " (23, 24): [18,17],\n",
        " (24, 25): [17,16],\n",
        " (25, 26): [16,14],\n",
        " (26, 27): [14,13],\n",
        " (27, 28): [13,12],\n",
        " (28, 29): [12,11],\n",
        " (29, 30): [11,10],}\n",
        "\n",
        "\n",
        "\n",
        "def q_temp(val):\n",
        "  if val > 30:\n",
        "    return 10\n",
        "  if val < -10:\n",
        "    return 55\n",
        "  for range in map_temp:\n",
        "    if val == range[0]:\n",
        "      return map_temp[range][0]\n",
        "    elif val == range[1]:\n",
        "      return map_temp[range][1]\n",
        "    elif range[0] < val < range[1]:\n",
        "      diff = (map_temp[range][1]-map_temp[range][0]) / (range[1]-range[0])\n",
        "      return map_temp[range][0]+diff*(val-range[0])"
      ],
      "execution_count": 144,
      "outputs": []
    },
    {
      "cell_type": "code",
      "metadata": {
        "id": "lPMGbZlGn5_s",
        "colab": {
          "base_uri": "https://localhost:8080/"
        },
        "outputId": "9e82862f-8be9-40bd-8171-2bee38c44708"
      },
      "source": [
        "# numpy array\n",
        "# Temp\tDO\tpH\tBOD\tNitrate\tFaecal Coliform\n",
        "\n",
        "\n",
        "temp_df_wqi = final_df_wqi.copy(deep=True)\n",
        "\n",
        "temp_df_wqi['Temp'] = [q_temp(i) for i in temp_df_wqi['Temp']]\n",
        "temp_df_wqi['DO'] = [q_do(i) for i in temp_df_wqi['DO']]\n",
        "temp_df_wqi['pH'] = [q_ph(i) for i in temp_df_wqi['pH']]\n",
        "temp_df_wqi['BOD'] = [q_bod(i) for i in temp_df_wqi['BOD']]\n",
        "temp_df_wqi['Nitrate'] = [q_nitrate(i) for i in temp_df_wqi['Nitrate']]\n",
        "temp_df_wqi['Faecal Coliform'] = [q_faecal(i) for i in temp_df_wqi['Faecal Coliform']]\n",
        "print(temp_df_wqi)"
      ],
      "execution_count": 145,
      "outputs": [
        {
          "output_type": "stream",
          "text": [
            "      Temp    DO    pH    BOD  Nitrate  Faecal Coliform\n",
            "0     81.0  6.96  92.0  99.25  96.8000           91.000\n",
            "1     81.0  6.96  92.0  98.50  96.6500           91.000\n",
            "2     73.0  6.74  92.0  98.50  96.7000           91.000\n",
            "3     81.0  6.72  92.0  98.75  96.7300           91.000\n",
            "4     81.0  6.58  92.0  99.25  96.6435           91.000\n",
            "...    ...   ...   ...    ...      ...              ...\n",
            "3933  50.0  2.60  92.0   2.00  94.0000            2.000\n",
            "3934  67.0  5.46  81.0  92.75  96.6000           42.600\n",
            "3935  67.0  5.84  84.0  73.50  96.7500           23.150\n",
            "3936  67.0  5.58  91.0  95.00  97.0000           38.365\n",
            "3937  77.0  5.52  10.0  87.50  96.6500           43.230\n",
            "\n",
            "[3938 rows x 6 columns]\n"
          ],
          "name": "stdout"
        }
      ]
    },
    {
      "cell_type": "code",
      "metadata": {
        "scrolled": true,
        "id": "L4hGuHCzrktx"
      },
      "source": [
        "# final_wqi = temp_df_wqi[temp_df_wqi.isna().any(axis=1)]"
      ],
      "execution_count": 146,
      "outputs": []
    },
    {
      "cell_type": "code",
      "metadata": {
        "id": "quUzKwq4KTpE"
      },
      "source": [
        "temp_df_wqi['WQI'] = np.dot(temp_df_wqi.values,weight_factor)"
      ],
      "execution_count": 147,
      "outputs": []
    },
    {
      "cell_type": "code",
      "metadata": {
        "id": "Nn32ID27rkt6"
      },
      "source": [
        "# weight_factor_xfac = np.array([0.1333333333333333,0.2266666666666667,0.1466666666666667,0.1466666666666667,0.1333333333333333,0.2133333333333333]).reshape(6,1)\n",
        "\n",
        "# temp_df1 = final_df.copy(deep = True)\n",
        "\n",
        "# temp_df2 = final_df.copy(deep = True)\n",
        "\n",
        "# temp_df1['Temp'] = [q_temp(i) for i in temp_df1['Temp']]\n",
        "# temp_df1['DO'] = [q_do(i) for i in temp_df1['DO']]\n",
        "# temp_df1['pH'] = [q_ph(i) for i in temp_df1['pH']]\n",
        "# temp_df1['BOD'] = [q_bod(i) for i in temp_df1['BOD']]\n",
        "# temp_df1['Nitrate'] = [q_nitrate(i) for i in temp_df1['Nitrate']]\n",
        "# temp_df1['Faecal Coliform'] = [q_faecal(i) for i in temp_df1['Faecal Coliform']]\n",
        "\n",
        "# temp_df2['WQI'] = np.dot(temp_df1.values,weight_factor_xfac)/np.sum(weight_factor_xfac)"
      ],
      "execution_count": 148,
      "outputs": []
    },
    {
      "cell_type": "code",
      "metadata": {
        "id": "OQWEfI1EJ1o0"
      },
      "source": [
        "# temp_df2"
      ],
      "execution_count": 149,
      "outputs": []
    },
    {
      "cell_type": "code",
      "metadata": {
        "id": "4JUOrCfGrkt9"
      },
      "source": [
        "fc = final_df_wqi['Faecal Coliform'].replace(0,1)\n",
        "final_df_wqi['Faecal Coliform'] = np.log10(fc)"
      ],
      "execution_count": 150,
      "outputs": []
    },
    {
      "cell_type": "code",
      "metadata": {
        "id": "ibx9meiF47-7"
      },
      "source": [
        "final_df_wqi['WQI'] = temp_df_wqi['WQI'].copy(deep=True)"
      ],
      "execution_count": 151,
      "outputs": []
    },
    {
      "cell_type": "code",
      "metadata": {
        "id": "Vgk36qta2Z5k",
        "colab": {
          "base_uri": "https://localhost:8080/",
          "height": 734
        },
        "outputId": "9715082b-fa0e-42f0-e1f3-99732d5e0635"
      },
      "source": [
        "fig = plt.figure(figsize = (12,8))\n",
        "\n",
        "for i in range(len(final_df_wqi.columns)-1):\n",
        "  plt.subplot(1,6,i+1,title = final_df_wqi.columns[i])\n",
        "  sbn.boxplot(final_df_wqi[final_df_wqi.columns[i]])"
      ],
      "execution_count": 152,
      "outputs": [
        {
          "output_type": "stream",
          "text": [
            "/usr/local/lib/python3.6/dist-packages/seaborn/_decorators.py:43: FutureWarning: Pass the following variable as a keyword arg: x. From version 0.12, the only valid positional argument will be `data`, and passing other arguments without an explicit keyword will result in an error or misinterpretation.\n",
            "  FutureWarning\n",
            "/usr/local/lib/python3.6/dist-packages/seaborn/_decorators.py:43: FutureWarning: Pass the following variable as a keyword arg: x. From version 0.12, the only valid positional argument will be `data`, and passing other arguments without an explicit keyword will result in an error or misinterpretation.\n",
            "  FutureWarning\n",
            "/usr/local/lib/python3.6/dist-packages/seaborn/_decorators.py:43: FutureWarning: Pass the following variable as a keyword arg: x. From version 0.12, the only valid positional argument will be `data`, and passing other arguments without an explicit keyword will result in an error or misinterpretation.\n",
            "  FutureWarning\n",
            "/usr/local/lib/python3.6/dist-packages/seaborn/_decorators.py:43: FutureWarning: Pass the following variable as a keyword arg: x. From version 0.12, the only valid positional argument will be `data`, and passing other arguments without an explicit keyword will result in an error or misinterpretation.\n",
            "  FutureWarning\n",
            "/usr/local/lib/python3.6/dist-packages/seaborn/_decorators.py:43: FutureWarning: Pass the following variable as a keyword arg: x. From version 0.12, the only valid positional argument will be `data`, and passing other arguments without an explicit keyword will result in an error or misinterpretation.\n",
            "  FutureWarning\n",
            "/usr/local/lib/python3.6/dist-packages/seaborn/_decorators.py:43: FutureWarning: Pass the following variable as a keyword arg: x. From version 0.12, the only valid positional argument will be `data`, and passing other arguments without an explicit keyword will result in an error or misinterpretation.\n",
            "  FutureWarning\n"
          ],
          "name": "stderr"
        },
        {
          "output_type": "display_data",
          "data": {
            "image/png": "[encoded data removed]",
            "text/plain": [
              "<Figure size 864x576 with 6 Axes>"
            ]
          },
          "metadata": {
            "tags": [],
            "needs_background": "light"
          }
        }
      ]
    },
    {
      "cell_type": "code",
      "metadata": {
        "id": "YvihVeYF5t0D",
        "colab": {
          "base_uri": "https://localhost:8080/",
          "height": 438
        },
        "outputId": "15957ce8-15b8-4931-a863-db3dbeabaeed"
      },
      "source": [
        "fig = plt.figure(figsize = (20,5))\n",
        "sbn.boxplot(final_df_wqi['BOD'])\n",
        "quantiles = np.quantile(final_df_wqi['BOD'], np.array([0.00, 0.25, 0.50, 0.75, 1.00]))\n",
        "# ax = fig.add_subplot(111)\n",
        "# ax.vlines(quantiles, [0] * quantiles.size, [1] * quantiles.size,\n",
        "#           color='b', ls=':', lw=0.5, zorder=0)\n",
        "# ax.set_xticks(quantiles)\n",
        "a = 0\n",
        "q1 = quantiles[1];q3  = quantiles[3]\n",
        "iqr = q3 - q1\n",
        "bod_min = q1 - iqr * 1.5\n",
        "bod_max = q3 + 1.5 * iqr\n",
        "print(bod_min)\n",
        "print(bod_max)\n",
        "for i in final_df_wqi['BOD']:\n",
        "  if ((i > bod_max) or (i < bod_min)):\n",
        "    a+=1\n",
        "print(\"Outliers : \",a)\n",
        "if bod_min < 0:\n",
        "  bod_min = 0\n",
        "plt.show()"
      ],
      "execution_count": 153,
      "outputs": [
        {
          "output_type": "stream",
          "text": [
            "-6.574999999999999\n",
            "15.625\n",
            "Outliers :  472\n"
          ],
          "name": "stdout"
        },
        {
          "output_type": "stream",
          "text": [
            "/usr/local/lib/python3.6/dist-packages/seaborn/_decorators.py:43: FutureWarning: Pass the following variable as a keyword arg: x. From version 0.12, the only valid positional argument will be `data`, and passing other arguments without an explicit keyword will result in an error or misinterpretation.\n",
            "  FutureWarning\n"
          ],
          "name": "stderr"
        },
        {
          "output_type": "display_data",
          "data": {
            "image/png": "[encoded data removed]",
            "text/plain": [
              "<Figure size 1440x360 with 1 Axes>"
            ]
          },
          "metadata": {
            "tags": [],
            "needs_background": "light"
          }
        }
      ]
    },
    {
      "cell_type": "code",
      "metadata": {
        "id": "YJYrWuwhA7Zz",
        "colab": {
          "base_uri": "https://localhost:8080/",
          "height": 438
        },
        "outputId": "2a2f38b5-b81f-4cc0-d5a3-fed1e1e98349"
      },
      "source": [
        "fig = plt.figure(figsize = (20,5))\n",
        "sbn.boxplot(final_df_wqi['Temp'])\n",
        "quantiles = np.quantile(final_df_wqi['Temp'], np.array([0.00, 0.25, 0.50, 0.75, 1.00]))\n",
        "# ax = fig.add_subplot(111)\n",
        "# ax.vlines(quantiles, [0] * quantiles.size, [1] * quantiles.size,\n",
        "#           color='b', ls=':', lw=0.5, zorder=0)\n",
        "# ax.set_xticks(quantiles)\n",
        "\n",
        "a = 0\n",
        "q1 = quantiles[1];q3  = quantiles[3]\n",
        "iqr = q3 - q1\n",
        "temp_min = q1 - iqr * 1.5\n",
        "temp_max = q3 + 1.5 * iqr\n",
        "print(temp_min)\n",
        "print(temp_max)\n",
        "for i in final_df_wqi['Temp']:\n",
        "  if i < temp_min or i > temp_max:\n",
        "    a+=1\n",
        "print(\"Outliers : \",a)\n",
        "if temp_min < 0:\n",
        "  temp_min = 0\n",
        "plt.show()"
      ],
      "execution_count": 154,
      "outputs": [
        {
          "output_type": "stream",
          "text": [
            "/usr/local/lib/python3.6/dist-packages/seaborn/_decorators.py:43: FutureWarning: Pass the following variable as a keyword arg: x. From version 0.12, the only valid positional argument will be `data`, and passing other arguments without an explicit keyword will result in an error or misinterpretation.\n",
            "  FutureWarning\n"
          ],
          "name": "stderr"
        },
        {
          "output_type": "stream",
          "text": [
            "-7.0\n",
            "25.0\n",
            "Outliers :  35\n"
          ],
          "name": "stdout"
        },
        {
          "output_type": "display_data",
          "data": {
            "image/png": "[encoded data removed]",
            "text/plain": [
              "<Figure size 1440x360 with 1 Axes>"
            ]
          },
          "metadata": {
            "tags": [],
            "needs_background": "light"
          }
        }
      ]
    },
    {
      "cell_type": "code",
      "metadata": {
        "id": "avpBNZ7NF2MZ",
        "colab": {
          "base_uri": "https://localhost:8080/",
          "height": 438
        },
        "outputId": "aefc9958-53ea-4809-99fb-23c8b5872cba"
      },
      "source": [
        "fig = plt.figure(figsize = (20,5))\n",
        "sbn.boxplot(final_df_wqi['DO'])\n",
        "quantiles = np.quantile(final_df_wqi['DO'], np.array([0.00, 0.25, 0.50, 0.75, 1.00]))\n",
        "# ax = fig.add_subplot(111)\n",
        "# ax.vlines(quantiles, [0] * quantiles.size, [1] * quantiles.size,\n",
        "#           color='b', ls=':', lw=0.5, zorder=0)\n",
        "# ax.set_xticks(quantiles)\n",
        "plt.show()\n",
        "\n",
        "a = 0\n",
        "q1 = quantiles[1];q3  = quantiles[3]\n",
        "iqr = q3 - q1\n",
        "do_min = q1 - iqr * 1.5\n",
        "do_max = q3 + 1.5 * iqr\n",
        "print(do_min)\n",
        "print(do_max)\n",
        "for i in final_df_wqi['DO']:\n",
        "  if i < do_min or i > do_max:\n",
        "    a+=1\n",
        "if do_min < 0:\n",
        "  do_min = 0\n",
        "print(\"Outliers : \",a)"
      ],
      "execution_count": 155,
      "outputs": [
        {
          "output_type": "stream",
          "text": [
            "/usr/local/lib/python3.6/dist-packages/seaborn/_decorators.py:43: FutureWarning: Pass the following variable as a keyword arg: x. From version 0.12, the only valid positional argument will be `data`, and passing other arguments without an explicit keyword will result in an error or misinterpretation.\n",
            "  FutureWarning\n"
          ],
          "name": "stderr"
        },
        {
          "output_type": "display_data",
          "data": {
            "image/png": "[encoded data removed]",
            "text/plain": [
              "<Figure size 1440x360 with 1 Axes>"
            ]
          },
          "metadata": {
            "tags": [],
            "needs_background": "light"
          }
        },
        {
          "output_type": "stream",
          "text": [
            "2.1500000000000026\n",
            "10.549999999999997\n",
            "Outliers :  205\n"
          ],
          "name": "stdout"
        }
      ]
    },
    {
      "cell_type": "code",
      "metadata": {
        "id": "L2Yit3_tGwL0",
        "colab": {
          "base_uri": "https://localhost:8080/",
          "height": 438
        },
        "outputId": "f471e36f-7b1b-4cd4-d712-af12b56db20f"
      },
      "source": [
        "fig = plt.figure(figsize = (20,5))\n",
        "sbn.boxplot(final_df_wqi['pH'])\n",
        "quantiles = np.quantile(final_df_wqi['pH'], np.array([0.00, 0.25, 0.50, 0.75, 1.00]))\n",
        "# ax = fig.add_subplot(111)\n",
        "# ax.vlines(quantiles, [0] * quantiles.size, [1] * quantiles.size,\n",
        "#           color='b', ls=':', lw=0.5, zorder=0)\n",
        "# ax.set_xticks(quantiles)\n",
        "plt.show()\n",
        "\n",
        "a = 0\n",
        "q1 = quantiles[1];q3  = quantiles[3]\n",
        "iqr = q3 - q1\n",
        "ph_min = q1 - iqr * 1.5\n",
        "ph_max = q3 + 1.5 * iqr\n",
        "print(ph_min)\n",
        "print(ph_max)\n",
        "for i in final_df_wqi['pH']:\n",
        "  if i < ph_min or i > ph_max:\n",
        "    a+=1\n",
        "if ph_min < 0:\n",
        "  ph_min = 0\n",
        "print(\"Outliers : \",a)"
      ],
      "execution_count": 156,
      "outputs": [
        {
          "output_type": "stream",
          "text": [
            "/usr/local/lib/python3.6/dist-packages/seaborn/_decorators.py:43: FutureWarning: Pass the following variable as a keyword arg: x. From version 0.12, the only valid positional argument will be `data`, and passing other arguments without an explicit keyword will result in an error or misinterpretation.\n",
            "  FutureWarning\n"
          ],
          "name": "stderr"
        },
        {
          "output_type": "display_data",
          "data": {
            "image/png": "[encoded data removed]",
            "text/plain": [
              "<Figure size 1440x360 with 1 Axes>"
            ]
          },
          "metadata": {
            "tags": [],
            "needs_background": "light"
          }
        },
        {
          "output_type": "stream",
          "text": [
            "6.45\n",
            "8.849999999999998\n",
            "Outliers :  60\n"
          ],
          "name": "stdout"
        }
      ]
    },
    {
      "cell_type": "code",
      "metadata": {
        "id": "Z0orW8BeHRnm",
        "colab": {
          "base_uri": "https://localhost:8080/",
          "height": 601
        },
        "outputId": "8e5e53eb-066f-4a0b-d47c-f0a3a5eac45f"
      },
      "source": [
        "fig = plt.figure(figsize = (12,8))\n",
        "sbn.boxplot(final_df_wqi['Nitrate'])\n",
        "quantiles = np.quantile(final_df_wqi['Nitrate'], np.array([0.00, 0.25, 0.50, 0.75, 1.00]))\n",
        "\n",
        "a = 0\n",
        "q1 = quantiles[1];q3  = quantiles[3]\n",
        "iqr = q3 - q1\n",
        "nit_min = q1 - iqr * 1.5\n",
        "nit_max = q3 + 1.5 * iqr\n",
        "print(nit_min)\n",
        "print(nit_max)\n",
        "for i in final_df_wqi['Nitrate']:\n",
        "  if i > nit_max or i < nit_min:\n",
        "    a+=1\n",
        "if nit_min < 0:\n",
        "  nit_min = 0\n",
        "print(\"Outliers : \",a)\n",
        "plt.show()"
      ],
      "execution_count": 157,
      "outputs": [
        {
          "output_type": "stream",
          "text": [
            "/usr/local/lib/python3.6/dist-packages/seaborn/_decorators.py:43: FutureWarning: Pass the following variable as a keyword arg: x. From version 0.12, the only valid positional argument will be `data`, and passing other arguments without an explicit keyword will result in an error or misinterpretation.\n",
            "  FutureWarning\n"
          ],
          "name": "stderr"
        },
        {
          "output_type": "stream",
          "text": [
            "-2.3\n",
            "4.98\n",
            "Outliers :  445\n"
          ],
          "name": "stdout"
        },
        {
          "output_type": "display_data",
          "data": {
            "image/png": "[encoded data removed]",
            "text/plain": [
              "<Figure size 864x576 with 1 Axes>"
            ]
          },
          "metadata": {
            "tags": [],
            "needs_background": "light"
          }
        }
      ]
    },
    {
      "cell_type": "code",
      "metadata": {
        "id": "UAHx0HSzH54W",
        "colab": {
          "base_uri": "https://localhost:8080/",
          "height": 438
        },
        "outputId": "aefaceb5-9e68-4e30-b0b4-7f828cc671a7"
      },
      "source": [
        "fig = plt.figure(figsize = (20,5))\n",
        "\n",
        "sbn.boxplot(final_df_wqi['Faecal Coliform'])\n",
        "quantiles = np.quantile(final_df_wqi['Faecal Coliform'], np.array([0.00, 0.25, 0.50, 0.75, 1.00]))\n",
        "plt.show()\n",
        "\n",
        "a = 0\n",
        "q1 = quantiles[1];q3  = quantiles[3]\n",
        "iqr = q3 - q1\n",
        "fc_min = q1 - iqr * 1.5\n",
        "fc_max = q3 + 1.5 * iqr\n",
        "print(fc_min)\n",
        "print(fc_max)\n",
        "for i in final_df_wqi['Faecal Coliform']:\n",
        "  if i > fc_max or i < fc_min:\n",
        "    a+=1\n",
        "print(\"Outliers : \",a)"
      ],
      "execution_count": 158,
      "outputs": [
        {
          "output_type": "stream",
          "text": [
            "/usr/local/lib/python3.6/dist-packages/seaborn/_decorators.py:43: FutureWarning: Pass the following variable as a keyword arg: x. From version 0.12, the only valid positional argument will be `data`, and passing other arguments without an explicit keyword will result in an error or misinterpretation.\n",
            "  FutureWarning\n"
          ],
          "name": "stderr"
        },
        {
          "output_type": "display_data",
          "data": {
            "image/png": "[encoded data removed]",
            "text/plain": [
              "<Figure size 1440x360 with 1 Axes>"
            ]
          },
          "metadata": {
            "tags": [],
            "needs_background": "light"
          }
        },
        {
          "output_type": "stream",
          "text": [
            "-1.1198028017746324\n",
            "6.167094954210349\n",
            "Outliers :  60\n"
          ],
          "name": "stdout"
        }
      ]
    },
    {
      "cell_type": "code",
      "metadata": {
        "id": "DGwJna7Rrkt_"
      },
      "source": [
        "# Outlier Evaluation\n",
        "\n",
        "final_df_wqi['Temp'].values[final_df_wqi['Temp'].values < temp_min] = temp_min\n",
        "final_df_wqi['Temp'].values[final_df_wqi['Temp'].values > temp_max] = temp_max\n",
        "\n",
        "final_df_wqi['BOD'].values[final_df_wqi['BOD'].values < temp_min] = temp_min\n",
        "final_df_wqi['BOD'].values[final_df_wqi['BOD'].values > temp_max] = temp_max\n",
        "\n",
        "final_df_wqi['DO'].values[final_df_wqi['DO'].values < do_min] = do_min\n",
        "final_df_wqi['DO'].values[final_df_wqi['DO'].values > do_max] = do_max\n",
        "\n",
        "final_df_wqi['pH'].values[final_df_wqi['pH'].values < ph_min] =  ph_min\n",
        "final_df_wqi['pH'].values[final_df_wqi['pH'].values > ph_max] = ph_max\n",
        "\n",
        "final_df_wqi['Nitrate'].values[final_df_wqi['Nitrate'].values < nit_min] = nit_min\n",
        "final_df_wqi['Nitrate'].values[final_df_wqi['Nitrate'].values > nit_max] = nit_max\n",
        "\n",
        "final_df_wqi['Faecal Coliform'].values[final_df_wqi['Faecal Coliform'].values < fc_min] = fc_min\n",
        "final_df_wqi['Faecal Coliform'].values[final_df_wqi['Faecal Coliform'].values > fc_max] = fc_max"
      ],
      "execution_count": 159,
      "outputs": []
    },
    {
      "cell_type": "markdown",
      "metadata": {
        "id": "8VrzWpF5RWWt"
      },
      "source": [
        "## Z Score normalization"
      ]
    },
    {
      "cell_type": "code",
      "metadata": {
        "colab": {
          "base_uri": "https://localhost:8080/",
          "height": 402
        },
        "id": "aom8j47cQLmE",
        "outputId": "408cb9d4-0f36-4ea5-d004-2784226dfc2f"
      },
      "source": [
        "# Z Score normalization\r\n",
        "final_data = final_df_wqi.copy(deep=True)\r\n",
        "final_data = final_data.iloc[:,:-1]\r\n",
        "final_data = (final_data-np.mean(final_data))/np.std(final_data)\r\n",
        "final_data['WQI'] = final_df_wqi['WQI']\r\n",
        "final_data"
      ],
      "execution_count": 169,
      "outputs": [
        {
          "output_type": "execute_result",
          "data": {
            "text/html": [
              "<div>\n",
              "<style scoped>\n",
              "    .dataframe tbody tr th:only-of-type {\n",
              "        vertical-align: middle;\n",
              "    }\n",
              "\n",
              "    .dataframe tbody tr th {\n",
              "        vertical-align: top;\n",
              "    }\n",
              "\n",
              "    .dataframe thead th {\n",
              "        text-align: right;\n",
              "    }\n",
              "</style>\n",
              "<table border=\"1\" class=\"dataframe\">\n",
              "  <thead>\n",
              "    <tr style=\"text-align: right;\">\n",
              "      <th></th>\n",
              "      <th>Temp</th>\n",
              "      <th>DO</th>\n",
              "      <th>pH</th>\n",
              "      <th>BOD</th>\n",
              "      <th>Nitrate</th>\n",
              "      <th>Faecal Coliform</th>\n",
              "      <th>WQI</th>\n",
              "    </tr>\n",
              "  </thead>\n",
              "  <tbody>\n",
              "    <tr>\n",
              "      <th>0</th>\n",
              "      <td>-1.167175</td>\n",
              "      <td>2.128130</td>\n",
              "      <td>-0.582328</td>\n",
              "      <td>-0.854222</td>\n",
              "      <td>-0.894501</td>\n",
              "      <td>-1.726094</td>\n",
              "      <td>72.747600</td>\n",
              "    </tr>\n",
              "    <tr>\n",
              "      <th>1</th>\n",
              "      <td>-1.167175</td>\n",
              "      <td>2.128130</td>\n",
              "      <td>-0.818200</td>\n",
              "      <td>-0.832647</td>\n",
              "      <td>-0.799162</td>\n",
              "      <td>-1.726094</td>\n",
              "      <td>72.617600</td>\n",
              "    </tr>\n",
              "    <tr>\n",
              "      <th>2</th>\n",
              "      <td>-0.799132</td>\n",
              "      <td>1.808248</td>\n",
              "      <td>-0.464392</td>\n",
              "      <td>-0.832647</td>\n",
              "      <td>-0.830942</td>\n",
              "      <td>-1.726094</td>\n",
              "      <td>71.507733</td>\n",
              "    </tr>\n",
              "    <tr>\n",
              "      <th>3</th>\n",
              "      <td>-1.167175</td>\n",
              "      <td>1.779168</td>\n",
              "      <td>-0.405424</td>\n",
              "      <td>-0.839839</td>\n",
              "      <td>-0.850010</td>\n",
              "      <td>-1.726094</td>\n",
              "      <td>72.610533</td>\n",
              "    </tr>\n",
              "    <tr>\n",
              "      <th>4</th>\n",
              "      <td>-1.167175</td>\n",
              "      <td>1.575607</td>\n",
              "      <td>-0.405424</td>\n",
              "      <td>-0.854222</td>\n",
              "      <td>-0.795031</td>\n",
              "      <td>-1.726094</td>\n",
              "      <td>72.640600</td>\n",
              "    </tr>\n",
              "    <tr>\n",
              "      <th>...</th>\n",
              "      <td>...</td>\n",
              "      <td>...</td>\n",
              "      <td>...</td>\n",
              "      <td>...</td>\n",
              "      <td>...</td>\n",
              "      <td>...</td>\n",
              "      <td>...</td>\n",
              "    </tr>\n",
              "    <tr>\n",
              "      <th>3933</th>\n",
              "      <td>-0.063048</td>\n",
              "      <td>-2.379298</td>\n",
              "      <td>-0.346456</td>\n",
              "      <td>2.720125</td>\n",
              "      <td>0.376687</td>\n",
              "      <td>2.618160</td>\n",
              "      <td>34.002667</td>\n",
              "    </tr>\n",
              "    <tr>\n",
              "      <th>3934</th>\n",
              "      <td>-0.615111</td>\n",
              "      <td>-0.052883</td>\n",
              "      <td>-2.115497</td>\n",
              "      <td>-0.710386</td>\n",
              "      <td>-0.767383</td>\n",
              "      <td>-0.409242</td>\n",
              "      <td>57.622267</td>\n",
              "    </tr>\n",
              "    <tr>\n",
              "      <th>3935</th>\n",
              "      <td>-0.615111</td>\n",
              "      <td>0.499640</td>\n",
              "      <td>0.832905</td>\n",
              "      <td>-0.516206</td>\n",
              "      <td>-0.862722</td>\n",
              "      <td>0.233400</td>\n",
              "      <td>51.195733</td>\n",
              "    </tr>\n",
              "    <tr>\n",
              "      <th>3936</th>\n",
              "      <td>-0.615111</td>\n",
              "      <td>0.121598</td>\n",
              "      <td>-1.172008</td>\n",
              "      <td>-0.731961</td>\n",
              "      <td>-1.021620</td>\n",
              "      <td>-0.277941</td>\n",
              "      <td>58.596000</td>\n",
              "    </tr>\n",
              "    <tr>\n",
              "      <th>3937</th>\n",
              "      <td>-0.983154</td>\n",
              "      <td>0.034357</td>\n",
              "      <td>-2.823113</td>\n",
              "      <td>-0.660043</td>\n",
              "      <td>-0.799162</td>\n",
              "      <td>-0.434317</td>\n",
              "      <td>47.926933</td>\n",
              "    </tr>\n",
              "  </tbody>\n",
              "</table>\n",
              "<p>3938 rows × 7 columns</p>\n",
              "</div>"
            ],
            "text/plain": [
              "          Temp        DO        pH  ...   Nitrate  Faecal Coliform        WQI\n",
              "0    -1.167175  2.128130 -0.582328  ... -0.894501        -1.726094  72.747600\n",
              "1    -1.167175  2.128130 -0.818200  ... -0.799162        -1.726094  72.617600\n",
              "2    -0.799132  1.808248 -0.464392  ... -0.830942        -1.726094  71.507733\n",
              "3    -1.167175  1.779168 -0.405424  ... -0.850010        -1.726094  72.610533\n",
              "4    -1.167175  1.575607 -0.405424  ... -0.795031        -1.726094  72.640600\n",
              "...        ...       ...       ...  ...       ...              ...        ...\n",
              "3933 -0.063048 -2.379298 -0.346456  ...  0.376687         2.618160  34.002667\n",
              "3934 -0.615111 -0.052883 -2.115497  ... -0.767383        -0.409242  57.622267\n",
              "3935 -0.615111  0.499640  0.832905  ... -0.862722         0.233400  51.195733\n",
              "3936 -0.615111  0.121598 -1.172008  ... -1.021620        -0.277941  58.596000\n",
              "3937 -0.983154  0.034357 -2.823113  ... -0.799162        -0.434317  47.926933\n",
              "\n",
              "[3938 rows x 7 columns]"
            ]
          },
          "metadata": {
            "tags": []
          },
          "execution_count": 169
        }
      ]
    },
    {
      "cell_type": "code",
      "metadata": {
        "id": "GQoYY-x2EtNZ"
      },
      "source": [
        "from sklearn.model_selection import train_test_split \n",
        "from sklearn.linear_model import LinearRegression as LR\n",
        "from sklearn.metrics import mean_squared_error as MSE\n",
        "from sklearn.metrics import mean_absolute_error as MAE\n",
        "from sklearn.model_selection import cross_val_score\n",
        "from sklearn.model_selection import cross_val_predict\n",
        "from sklearn.linear_model import Lasso as lasso\n",
        "from sklearn.linear_model import Ridge as ridge\n",
        "from sklearn.preprocessing import PolynomialFeatures\n",
        "from sklearn.linear_model import LogisticRegression\n",
        "from sklearn.model_selection import KFold\n",
        "from sklearn.metrics import r2_score\n",
        "from itertools import combinations"
      ],
      "execution_count": 234,
      "outputs": []
    },
    {
      "cell_type": "markdown",
      "metadata": {
        "id": "TeutZLW7hmLe"
      },
      "source": [
        "## LINEAR REGRESSION"
      ]
    },
    {
      "cell_type": "code",
      "metadata": {
        "id": "sXaTl2Bt_U8K"
      },
      "source": [
        "np.random.seed(5000)"
      ],
      "execution_count": 200,
      "outputs": []
    },
    {
      "cell_type": "code",
      "metadata": {
        "id": "JSvl93Be9JAT"
      },
      "source": [
        "training_data = final_data.values\n",
        "X = training_data[:,:-1]; y = training_data[:,-1]\n",
        "Xtrain,Xtest,ytrain,ytest = train_test_split(X, y ,test_size = 0.20)"
      ],
      "execution_count": 205,
      "outputs": []
    },
    {
      "cell_type": "code",
      "metadata": {
        "id": "VvXCySYSrkuH",
        "colab": {
          "base_uri": "https://localhost:8080/"
        },
        "outputId": "dc91b615-d29d-4aad-af50-887905b6c9a7"
      },
      "source": [
        "model_linear = LR()\r\n",
        "model_linear.fit(Xtrain,ytrain)\r\n",
        "r2_score = np.mean(cross_val_score(model_linear,X,y,cv=5))\r\n",
        "y_pred = model_linear.predict(Xtest)\r\n",
        "# R sqaured metric\r\n",
        "print(\"R2 score is: \",r2_score)\r\n",
        "# MSE Error\r\n",
        "print(\"MSE Value is: \",MSE(ytest,y_pred,squared=True))\r\n",
        "# RMSE Error\r\n",
        "print(\"RMSE Value is: \",MSE(ytest,y_pred,squared=False))\r\n",
        "# MAE Error\r\n",
        "print(\"MAE Values is: \",MAE(ytest,y_pred))\r\n",
        "print(model_linear.coef_)"
      ],
      "execution_count": 189,
      "outputs": [
        {
          "output_type": "stream",
          "text": [
            "R2 score is:  0.9009556816288026\n",
            "MSE Value is:  6.862345589942621\n",
            "RMSE Value is:  2.619607907672944\n",
            "MAE Values is:  2.0147339065697776\n",
            "[-2.43699259  0.24659479 -0.38181892 -3.69629004 -1.72892489 -5.30866557]\n"
          ],
          "name": "stdout"
        }
      ]
    },
    {
      "cell_type": "markdown",
      "metadata": {
        "id": "Yp3C2Nw1mnR1"
      },
      "source": [
        "## Regression Excluding One Feature"
      ]
    },
    {
      "cell_type": "code",
      "metadata": {
        "colab": {
          "base_uri": "https://localhost:8080/",
          "height": 225
        },
        "id": "yIQ_a_-HfW-b",
        "outputId": "e8af70f4-c0c6-4dfc-e7f3-9cb98e02a49b"
      },
      "source": [
        "results = []\r\n",
        "model_linear = LR()\r\n",
        "for col in list(final_data.columns)[:-1]:\r\n",
        "  tmp_data = final_data.drop([col],axis=1)\r\n",
        "  training_data = tmp_data.values\r\n",
        "  X = training_data[:,:-1]; y = training_data[:,-1]\r\n",
        "  Xtrain,Xtest,ytrain,ytest = train_test_split(X, y ,test_size = 0.20)\r\n",
        "  model_linear.fit(Xtrain,ytrain)\r\n",
        "  y_pred = model_linear.predict(Xtest)\r\n",
        "  r2_score = np.mean(cross_val_score(model_linear,X,y,cv=5))\r\n",
        "  mse_loss = MSE(ytest,y_pred,squared=True)\r\n",
        "  rmse_loss = MSE(ytest,y_pred,squared=False)\r\n",
        "  mae_loss = MAE(ytest,y_pred)\r\n",
        "  results.append([col,r2_score,mse_loss,rmse_loss,mae_loss])\r\n",
        "results_df = pd.DataFrame(np.array(results),columns=['Excluded Feature','r2_score','mse_loss','rmse_loss','mae_loss'])\r\n",
        "results_df"
      ],
      "execution_count": 209,
      "outputs": [
        {
          "output_type": "execute_result",
          "data": {
            "text/html": [
              "<div>\n",
              "<style scoped>\n",
              "    .dataframe tbody tr th:only-of-type {\n",
              "        vertical-align: middle;\n",
              "    }\n",
              "\n",
              "    .dataframe tbody tr th {\n",
              "        vertical-align: top;\n",
              "    }\n",
              "\n",
              "    .dataframe thead th {\n",
              "        text-align: right;\n",
              "    }\n",
              "</style>\n",
              "<table border=\"1\" class=\"dataframe\">\n",
              "  <thead>\n",
              "    <tr style=\"text-align: right;\">\n",
              "      <th></th>\n",
              "      <th>Excluded Feature</th>\n",
              "      <th>r2_score</th>\n",
              "      <th>mse_loss</th>\n",
              "      <th>rmse_loss</th>\n",
              "      <th>mae_loss</th>\n",
              "    </tr>\n",
              "  </thead>\n",
              "  <tbody>\n",
              "    <tr>\n",
              "      <th>0</th>\n",
              "      <td>Temp</td>\n",
              "      <td>0.8283122678824082</td>\n",
              "      <td>12.6809568472644</td>\n",
              "      <td>3.5610331151597565</td>\n",
              "      <td>2.83063146162429</td>\n",
              "    </tr>\n",
              "    <tr>\n",
              "      <th>1</th>\n",
              "      <td>DO</td>\n",
              "      <td>0.9006198577836371</td>\n",
              "      <td>7.032467107667729</td>\n",
              "      <td>2.651879919541556</td>\n",
              "      <td>2.0300290021321556</td>\n",
              "    </tr>\n",
              "    <tr>\n",
              "      <th>2</th>\n",
              "      <td>pH</td>\n",
              "      <td>0.8993879066692039</td>\n",
              "      <td>7.342257993932955</td>\n",
              "      <td>2.709660125169383</td>\n",
              "      <td>2.1146296666848956</td>\n",
              "    </tr>\n",
              "    <tr>\n",
              "      <th>3</th>\n",
              "      <td>BOD</td>\n",
              "      <td>0.8044757003513459</td>\n",
              "      <td>13.977732364314559</td>\n",
              "      <td>3.7386805646263173</td>\n",
              "      <td>2.9458478633715703</td>\n",
              "    </tr>\n",
              "    <tr>\n",
              "      <th>4</th>\n",
              "      <td>Nitrate</td>\n",
              "      <td>0.8742144853753565</td>\n",
              "      <td>10.367459982405792</td>\n",
              "      <td>3.219854031226539</td>\n",
              "      <td>2.3712465724801075</td>\n",
              "    </tr>\n",
              "    <tr>\n",
              "      <th>5</th>\n",
              "      <td>Faecal Coliform</td>\n",
              "      <td>0.5481155008103495</td>\n",
              "      <td>33.0521820998786</td>\n",
              "      <td>5.749102721284305</td>\n",
              "      <td>4.726177104368452</td>\n",
              "    </tr>\n",
              "  </tbody>\n",
              "</table>\n",
              "</div>"
            ],
            "text/plain": [
              "  Excluded Feature            r2_score  ...           rmse_loss            mae_loss\n",
              "0             Temp  0.8283122678824082  ...  3.5610331151597565    2.83063146162429\n",
              "1               DO  0.9006198577836371  ...   2.651879919541556  2.0300290021321556\n",
              "2               pH  0.8993879066692039  ...   2.709660125169383  2.1146296666848956\n",
              "3              BOD  0.8044757003513459  ...  3.7386805646263173  2.9458478633715703\n",
              "4          Nitrate  0.8742144853753565  ...   3.219854031226539  2.3712465724801075\n",
              "5  Faecal Coliform  0.5481155008103495  ...   5.749102721284305   4.726177104368452\n",
              "\n",
              "[6 rows x 5 columns]"
            ]
          },
          "metadata": {
            "tags": []
          },
          "execution_count": 209
        }
      ]
    },
    {
      "cell_type": "markdown",
      "metadata": {
        "id": "QVjG5Yz0muyI"
      },
      "source": [
        "## Excluding Two Features"
      ]
    },
    {
      "cell_type": "code",
      "metadata": {
        "colab": {
          "base_uri": "https://localhost:8080/",
          "height": 545
        },
        "id": "1zLpfGFvic4u",
        "outputId": "71be13c6-8d06-4d7b-a461-c5fdbdcbd029"
      },
      "source": [
        "results_two = []\r\n",
        "model_linear = LR()\r\n",
        "feature_combinations = combinations(list(final_data.columns)[:-1],4)\r\n",
        "for comb in feature_combinations:\r\n",
        "  tmp_data = final_data.drop(list(set(list(final_data.columns)[:-1]) - set(comb)),axis=1)\r\n",
        "  training_data = tmp_data.values\r\n",
        "  X = training_data[:,:-1]; y = training_data[:,-1]\r\n",
        "  Xtrain,Xtest,ytrain,ytest = train_test_split(X, y ,test_size = 0.20)\r\n",
        "  model_linear.fit(Xtrain,ytrain)\r\n",
        "  y_pred = model_linear.predict(Xtest)\r\n",
        "  r2_score = np.mean(cross_val_score(model_linear,X,y,cv=5))\r\n",
        "  mse_loss = MSE(ytest,y_pred,squared=True)\r\n",
        "  rmse_loss = MSE(ytest,y_pred,squared=False)\r\n",
        "  mae_loss = MAE(ytest,y_pred)\r\n",
        "  results_two.append([comb,r2_score,mse_loss,rmse_loss,mae_loss])\r\n",
        "results_with_4 = pd.DataFrame(np.array(results_two),columns=['Included Feature','r2_score','mse_loss','rmse_loss','mae_loss'])\r\n",
        "results_with_4"
      ],
      "execution_count": 216,
      "outputs": [
        {
          "output_type": "stream",
          "text": [
            "/usr/local/lib/python3.6/dist-packages/ipykernel_launcher.py:16: VisibleDeprecationWarning: Creating an ndarray from ragged nested sequences (which is a list-or-tuple of lists-or-tuples-or ndarrays with different lengths or shapes) is deprecated. If you meant to do this, you must specify 'dtype=object' when creating the ndarray\n",
            "  app.launch_new_instance()\n"
          ],
          "name": "stderr"
        },
        {
          "output_type": "execute_result",
          "data": {
            "text/html": [
              "<div>\n",
              "<style scoped>\n",
              "    .dataframe tbody tr th:only-of-type {\n",
              "        vertical-align: middle;\n",
              "    }\n",
              "\n",
              "    .dataframe tbody tr th {\n",
              "        vertical-align: top;\n",
              "    }\n",
              "\n",
              "    .dataframe thead th {\n",
              "        text-align: right;\n",
              "    }\n",
              "</style>\n",
              "<table border=\"1\" class=\"dataframe\">\n",
              "  <thead>\n",
              "    <tr style=\"text-align: right;\">\n",
              "      <th></th>\n",
              "      <th>Excluded Feature</th>\n",
              "      <th>r2_score</th>\n",
              "      <th>mse_loss</th>\n",
              "      <th>rmse_loss</th>\n",
              "      <th>mae_loss</th>\n",
              "    </tr>\n",
              "  </thead>\n",
              "  <tbody>\n",
              "    <tr>\n",
              "      <th>0</th>\n",
              "      <td>(Temp, DO, pH, BOD)</td>\n",
              "      <td>0.521048</td>\n",
              "      <td>35.7375</td>\n",
              "      <td>5.97808</td>\n",
              "      <td>4.82591</td>\n",
              "    </tr>\n",
              "    <tr>\n",
              "      <th>1</th>\n",
              "      <td>(Temp, DO, pH, Nitrate)</td>\n",
              "      <td>0.335622</td>\n",
              "      <td>50.5591</td>\n",
              "      <td>7.11049</td>\n",
              "      <td>5.6589</td>\n",
              "    </tr>\n",
              "    <tr>\n",
              "      <th>2</th>\n",
              "      <td>(Temp, DO, pH, Faecal Coliform)</td>\n",
              "      <td>0.736995</td>\n",
              "      <td>20.1738</td>\n",
              "      <td>4.49152</td>\n",
              "      <td>3.46705</td>\n",
              "    </tr>\n",
              "    <tr>\n",
              "      <th>3</th>\n",
              "      <td>(Temp, DO, BOD, Nitrate)</td>\n",
              "      <td>0.553031</td>\n",
              "      <td>33.1686</td>\n",
              "      <td>5.75922</td>\n",
              "      <td>4.70033</td>\n",
              "    </tr>\n",
              "    <tr>\n",
              "      <th>4</th>\n",
              "      <td>(Temp, DO, BOD, Faecal Coliform)</td>\n",
              "      <td>0.872888</td>\n",
              "      <td>9.07221</td>\n",
              "      <td>3.01201</td>\n",
              "      <td>2.27978</td>\n",
              "    </tr>\n",
              "    <tr>\n",
              "      <th>5</th>\n",
              "      <td>(Temp, DO, Nitrate, Faecal Coliform)</td>\n",
              "      <td>0.801226</td>\n",
              "      <td>14.8758</td>\n",
              "      <td>3.85691</td>\n",
              "      <td>3.0022</td>\n",
              "    </tr>\n",
              "    <tr>\n",
              "      <th>6</th>\n",
              "      <td>(Temp, pH, BOD, Nitrate)</td>\n",
              "      <td>0.547687</td>\n",
              "      <td>33.1404</td>\n",
              "      <td>5.75677</td>\n",
              "      <td>4.74397</td>\n",
              "    </tr>\n",
              "    <tr>\n",
              "      <th>7</th>\n",
              "      <td>(Temp, pH, BOD, Faecal Coliform)</td>\n",
              "      <td>0.870548</td>\n",
              "      <td>9.75155</td>\n",
              "      <td>3.12275</td>\n",
              "      <td>2.25141</td>\n",
              "    </tr>\n",
              "    <tr>\n",
              "      <th>8</th>\n",
              "      <td>(Temp, pH, Nitrate, Faecal Coliform)</td>\n",
              "      <td>0.75355</td>\n",
              "      <td>16.119</td>\n",
              "      <td>4.01484</td>\n",
              "      <td>3.15805</td>\n",
              "    </tr>\n",
              "    <tr>\n",
              "      <th>9</th>\n",
              "      <td>(Temp, BOD, Nitrate, Faecal Coliform)</td>\n",
              "      <td>0.899369</td>\n",
              "      <td>7.50961</td>\n",
              "      <td>2.74037</td>\n",
              "      <td>2.05869</td>\n",
              "    </tr>\n",
              "    <tr>\n",
              "      <th>10</th>\n",
              "      <td>(DO, pH, BOD, Nitrate)</td>\n",
              "      <td>0.409534</td>\n",
              "      <td>39.6939</td>\n",
              "      <td>6.30031</td>\n",
              "      <td>5.14406</td>\n",
              "    </tr>\n",
              "    <tr>\n",
              "      <th>11</th>\n",
              "      <td>(DO, pH, BOD, Faecal Coliform)</td>\n",
              "      <td>0.798422</td>\n",
              "      <td>15.155</td>\n",
              "      <td>3.89294</td>\n",
              "      <td>2.9526</td>\n",
              "    </tr>\n",
              "    <tr>\n",
              "      <th>12</th>\n",
              "      <td>(DO, pH, Nitrate, Faecal Coliform)</td>\n",
              "      <td>0.734023</td>\n",
              "      <td>19.2698</td>\n",
              "      <td>4.38973</td>\n",
              "      <td>3.46377</td>\n",
              "    </tr>\n",
              "    <tr>\n",
              "      <th>13</th>\n",
              "      <td>(DO, BOD, Nitrate, Faecal Coliform)</td>\n",
              "      <td>0.82369</td>\n",
              "      <td>12.3723</td>\n",
              "      <td>3.51743</td>\n",
              "      <td>2.78183</td>\n",
              "    </tr>\n",
              "    <tr>\n",
              "      <th>14</th>\n",
              "      <td>(pH, BOD, Nitrate, Faecal Coliform)</td>\n",
              "      <td>0.82812</td>\n",
              "      <td>13.275</td>\n",
              "      <td>3.64349</td>\n",
              "      <td>2.92432</td>\n",
              "    </tr>\n",
              "  </tbody>\n",
              "</table>\n",
              "</div>"
            ],
            "text/plain": [
              "                         Excluded Feature  r2_score mse_loss rmse_loss mae_loss\n",
              "0                     (Temp, DO, pH, BOD)  0.521048  35.7375   5.97808  4.82591\n",
              "1                 (Temp, DO, pH, Nitrate)  0.335622  50.5591   7.11049   5.6589\n",
              "2         (Temp, DO, pH, Faecal Coliform)  0.736995  20.1738   4.49152  3.46705\n",
              "3                (Temp, DO, BOD, Nitrate)  0.553031  33.1686   5.75922  4.70033\n",
              "4        (Temp, DO, BOD, Faecal Coliform)  0.872888  9.07221   3.01201  2.27978\n",
              "5    (Temp, DO, Nitrate, Faecal Coliform)  0.801226  14.8758   3.85691   3.0022\n",
              "6                (Temp, pH, BOD, Nitrate)  0.547687  33.1404   5.75677  4.74397\n",
              "7        (Temp, pH, BOD, Faecal Coliform)  0.870548  9.75155   3.12275  2.25141\n",
              "8    (Temp, pH, Nitrate, Faecal Coliform)   0.75355   16.119   4.01484  3.15805\n",
              "9   (Temp, BOD, Nitrate, Faecal Coliform)  0.899369  7.50961   2.74037  2.05869\n",
              "10                 (DO, pH, BOD, Nitrate)  0.409534  39.6939   6.30031  5.14406\n",
              "11         (DO, pH, BOD, Faecal Coliform)  0.798422   15.155   3.89294   2.9526\n",
              "12     (DO, pH, Nitrate, Faecal Coliform)  0.734023  19.2698   4.38973  3.46377\n",
              "13    (DO, BOD, Nitrate, Faecal Coliform)   0.82369  12.3723   3.51743  2.78183\n",
              "14    (pH, BOD, Nitrate, Faecal Coliform)   0.82812   13.275   3.64349  2.92432"
            ]
          },
          "metadata": {
            "tags": []
          },
          "execution_count": 216
        }
      ]
    },
    {
      "cell_type": "markdown",
      "metadata": {
        "id": "WZBcLfnPpL20"
      },
      "source": [
        "## Excluding three features."
      ]
    },
    {
      "cell_type": "code",
      "metadata": {
        "colab": {
          "base_uri": "https://localhost:8080/",
          "height": 693
        },
        "id": "DrhIAFddlVv5",
        "outputId": "3cf682ab-d856-45d6-edf3-cf6b54f9a308"
      },
      "source": [
        "results_three = []\r\n",
        "model_linear = LR()\r\n",
        "feature_combinations = combinations(list(final_data.columns)[:-1],3)\r\n",
        "for comb in feature_combinations:\r\n",
        "  tmp_data = final_data.drop(list(set(list(final_data.columns)[:-1]) - set(comb)),axis=1)\r\n",
        "  training_data = tmp_data.values\r\n",
        "  X = training_data[:,:-1]; y = training_data[:,-1]\r\n",
        "  Xtrain,Xtest,ytrain,ytest = train_test_split(X, y ,test_size = 0.20)\r\n",
        "  model_linear.fit(Xtrain,ytrain)\r\n",
        "  y_pred = model_linear.predict(Xtest)\r\n",
        "  r2_score = np.mean(cross_val_score(model_linear,X,y,cv=5))\r\n",
        "  mse_loss = MSE(ytest,y_pred,squared=True)\r\n",
        "  rmse_loss = MSE(ytest,y_pred,squared=False)\r\n",
        "  mae_loss = MAE(ytest,y_pred)\r\n",
        "  results_three.append([comb,r2_score,mse_loss,rmse_loss,mae_loss])\r\n",
        "results_with_3 = pd.DataFrame(np.array(results_three),columns=['Included Feature','r2_score','mse_loss','rmse_loss','mae_loss'])\r\n",
        "results_with_3"
      ],
      "execution_count": 223,
      "outputs": [
        {
          "output_type": "stream",
          "text": [
            "/usr/local/lib/python3.6/dist-packages/ipykernel_launcher.py:16: VisibleDeprecationWarning: Creating an ndarray from ragged nested sequences (which is a list-or-tuple of lists-or-tuples-or ndarrays with different lengths or shapes) is deprecated. If you meant to do this, you must specify 'dtype=object' when creating the ndarray\n",
            "  app.launch_new_instance()\n"
          ],
          "name": "stderr"
        },
        {
          "output_type": "execute_result",
          "data": {
            "text/html": [
              "<div>\n",
              "<style scoped>\n",
              "    .dataframe tbody tr th:only-of-type {\n",
              "        vertical-align: middle;\n",
              "    }\n",
              "\n",
              "    .dataframe tbody tr th {\n",
              "        vertical-align: top;\n",
              "    }\n",
              "\n",
              "    .dataframe thead th {\n",
              "        text-align: right;\n",
              "    }\n",
              "</style>\n",
              "<table border=\"1\" class=\"dataframe\">\n",
              "  <thead>\n",
              "    <tr style=\"text-align: right;\">\n",
              "      <th></th>\n",
              "      <th>Included Feature</th>\n",
              "      <th>r2_score</th>\n",
              "      <th>mse_loss</th>\n",
              "      <th>rmse_loss</th>\n",
              "      <th>mae_loss</th>\n",
              "    </tr>\n",
              "  </thead>\n",
              "  <tbody>\n",
              "    <tr>\n",
              "      <th>0</th>\n",
              "      <td>(Temp, DO, pH)</td>\n",
              "      <td>0.235535</td>\n",
              "      <td>58.2165</td>\n",
              "      <td>7.62997</td>\n",
              "      <td>6.00037</td>\n",
              "    </tr>\n",
              "    <tr>\n",
              "      <th>1</th>\n",
              "      <td>(Temp, DO, BOD)</td>\n",
              "      <td>0.526875</td>\n",
              "      <td>35.3495</td>\n",
              "      <td>5.94555</td>\n",
              "      <td>4.81801</td>\n",
              "    </tr>\n",
              "    <tr>\n",
              "      <th>2</th>\n",
              "      <td>(Temp, DO, Nitrate)</td>\n",
              "      <td>0.338806</td>\n",
              "      <td>47.0526</td>\n",
              "      <td>6.85949</td>\n",
              "      <td>5.45247</td>\n",
              "    </tr>\n",
              "    <tr>\n",
              "      <th>3</th>\n",
              "      <td>(Temp, DO, Faecal Coliform)</td>\n",
              "      <td>0.73249</td>\n",
              "      <td>19.9124</td>\n",
              "      <td>4.46233</td>\n",
              "      <td>3.38298</td>\n",
              "    </tr>\n",
              "    <tr>\n",
              "      <th>4</th>\n",
              "      <td>(Temp, pH, BOD)</td>\n",
              "      <td>0.523081</td>\n",
              "      <td>32.7843</td>\n",
              "      <td>5.72575</td>\n",
              "      <td>4.62811</td>\n",
              "    </tr>\n",
              "    <tr>\n",
              "      <th>5</th>\n",
              "      <td>(Temp, pH, Nitrate)</td>\n",
              "      <td>0.279604</td>\n",
              "      <td>54.3562</td>\n",
              "      <td>7.37266</td>\n",
              "      <td>5.91574</td>\n",
              "    </tr>\n",
              "    <tr>\n",
              "      <th>6</th>\n",
              "      <td>(Temp, pH, Faecal Coliform)</td>\n",
              "      <td>0.593076</td>\n",
              "      <td>31.8487</td>\n",
              "      <td>5.64346</td>\n",
              "      <td>4.39013</td>\n",
              "    </tr>\n",
              "    <tr>\n",
              "      <th>7</th>\n",
              "      <td>(Temp, BOD, Nitrate)</td>\n",
              "      <td>0.552316</td>\n",
              "      <td>32.1489</td>\n",
              "      <td>5.67</td>\n",
              "      <td>4.6038</td>\n",
              "    </tr>\n",
              "    <tr>\n",
              "      <th>8</th>\n",
              "      <td>(Temp, BOD, Faecal Coliform)</td>\n",
              "      <td>0.870278</td>\n",
              "      <td>9.81354</td>\n",
              "      <td>3.13266</td>\n",
              "      <td>2.35121</td>\n",
              "    </tr>\n",
              "    <tr>\n",
              "      <th>9</th>\n",
              "      <td>(Temp, Nitrate, Faecal Coliform)</td>\n",
              "      <td>0.752843</td>\n",
              "      <td>16.3525</td>\n",
              "      <td>4.04382</td>\n",
              "      <td>3.17987</td>\n",
              "    </tr>\n",
              "    <tr>\n",
              "      <th>10</th>\n",
              "      <td>(DO, pH, BOD)</td>\n",
              "      <td>0.380644</td>\n",
              "      <td>43.9855</td>\n",
              "      <td>6.63216</td>\n",
              "      <td>5.35283</td>\n",
              "    </tr>\n",
              "    <tr>\n",
              "      <th>11</th>\n",
              "      <td>(DO, pH, Nitrate)</td>\n",
              "      <td>0.186012</td>\n",
              "      <td>58.9856</td>\n",
              "      <td>7.68021</td>\n",
              "      <td>6.21405</td>\n",
              "    </tr>\n",
              "    <tr>\n",
              "      <th>12</th>\n",
              "      <td>(DO, pH, Faecal Coliform)</td>\n",
              "      <td>0.660546</td>\n",
              "      <td>24.5647</td>\n",
              "      <td>4.95628</td>\n",
              "      <td>3.9349</td>\n",
              "    </tr>\n",
              "    <tr>\n",
              "      <th>13</th>\n",
              "      <td>(DO, BOD, Nitrate)</td>\n",
              "      <td>0.41693</td>\n",
              "      <td>41.8648</td>\n",
              "      <td>6.4703</td>\n",
              "      <td>5.28581</td>\n",
              "    </tr>\n",
              "    <tr>\n",
              "      <th>14</th>\n",
              "      <td>(DO, BOD, Faecal Coliform)</td>\n",
              "      <td>0.794502</td>\n",
              "      <td>14.055</td>\n",
              "      <td>3.74899</td>\n",
              "      <td>2.96494</td>\n",
              "    </tr>\n",
              "    <tr>\n",
              "      <th>15</th>\n",
              "      <td>(DO, Nitrate, Faecal Coliform)</td>\n",
              "      <td>0.726036</td>\n",
              "      <td>18.3209</td>\n",
              "      <td>4.28029</td>\n",
              "      <td>3.37093</td>\n",
              "    </tr>\n",
              "    <tr>\n",
              "      <th>16</th>\n",
              "      <td>(pH, BOD, Nitrate)</td>\n",
              "      <td>0.398899</td>\n",
              "      <td>40.0134</td>\n",
              "      <td>6.32561</td>\n",
              "      <td>5.2103</td>\n",
              "    </tr>\n",
              "    <tr>\n",
              "      <th>17</th>\n",
              "      <td>(pH, BOD, Faecal Coliform)</td>\n",
              "      <td>0.79857</td>\n",
              "      <td>14.6837</td>\n",
              "      <td>3.83193</td>\n",
              "      <td>2.9754</td>\n",
              "    </tr>\n",
              "    <tr>\n",
              "      <th>18</th>\n",
              "      <td>(pH, Nitrate, Faecal Coliform)</td>\n",
              "      <td>0.704984</td>\n",
              "      <td>21.9368</td>\n",
              "      <td>4.68367</td>\n",
              "      <td>3.68305</td>\n",
              "    </tr>\n",
              "    <tr>\n",
              "      <th>19</th>\n",
              "      <td>(BOD, Nitrate, Faecal Coliform)</td>\n",
              "      <td>0.822829</td>\n",
              "      <td>12.4831</td>\n",
              "      <td>3.53315</td>\n",
              "      <td>2.80547</td>\n",
              "    </tr>\n",
              "  </tbody>\n",
              "</table>\n",
              "</div>"
            ],
            "text/plain": [
              "                    Included Feature  r2_score mse_loss rmse_loss mae_loss\n",
              "0                     (Temp, DO, pH)  0.235535  58.2165   7.62997  6.00037\n",
              "1                    (Temp, DO, BOD)  0.526875  35.3495   5.94555  4.81801\n",
              "2                (Temp, DO, Nitrate)  0.338806  47.0526   6.85949  5.45247\n",
              "3        (Temp, DO, Faecal Coliform)   0.73249  19.9124   4.46233  3.38298\n",
              "4                    (Temp, pH, BOD)  0.523081  32.7843   5.72575  4.62811\n",
              "5                (Temp, pH, Nitrate)  0.279604  54.3562   7.37266  5.91574\n",
              "6        (Temp, pH, Faecal Coliform)  0.593076  31.8487   5.64346  4.39013\n",
              "7               (Temp, BOD, Nitrate)  0.552316  32.1489      5.67   4.6038\n",
              "8       (Temp, BOD, Faecal Coliform)  0.870278  9.81354   3.13266  2.35121\n",
              "9   (Temp, Nitrate, Faecal Coliform)  0.752843  16.3525   4.04382  3.17987\n",
              "10                     (DO, pH, BOD)  0.380644  43.9855   6.63216  5.35283\n",
              "11                 (DO, pH, Nitrate)  0.186012  58.9856   7.68021  6.21405\n",
              "12         (DO, pH, Faecal Coliform)  0.660546  24.5647   4.95628   3.9349\n",
              "13                (DO, BOD, Nitrate)   0.41693  41.8648    6.4703  5.28581\n",
              "14        (DO, BOD, Faecal Coliform)  0.794502   14.055   3.74899  2.96494\n",
              "15    (DO, Nitrate, Faecal Coliform)  0.726036  18.3209   4.28029  3.37093\n",
              "16                (pH, BOD, Nitrate)  0.398899  40.0134   6.32561   5.2103\n",
              "17        (pH, BOD, Faecal Coliform)   0.79857  14.6837   3.83193   2.9754\n",
              "18    (pH, Nitrate, Faecal Coliform)  0.704984  21.9368   4.68367  3.68305\n",
              "19   (BOD, Nitrate, Faecal Coliform)  0.822829  12.4831   3.53315  2.80547"
            ]
          },
          "metadata": {
            "tags": []
          },
          "execution_count": 223
        }
      ]
    },
    {
      "cell_type": "code",
      "metadata": {
        "id": "ZNKKn-bwt3mi"
      },
      "source": [
        "final_data['water_label'] = final_data['WQI'].apply(lambda x: 2 if x > 55 else (1 if 35 <= x < 55 else 0))"
      ],
      "execution_count": 229,
      "outputs": []
    },
    {
      "cell_type": "code",
      "metadata": {
        "colab": {
          "base_uri": "https://localhost:8080/",
          "height": 402
        },
        "id": "Rr-LEaIvvanK",
        "outputId": "74fb4275-f58b-4bdf-9d3f-28fbfcb7b612"
      },
      "source": [
        "final_data"
      ],
      "execution_count": 232,
      "outputs": [
        {
          "output_type": "execute_result",
          "data": {
            "text/html": [
              "<div>\n",
              "<style scoped>\n",
              "    .dataframe tbody tr th:only-of-type {\n",
              "        vertical-align: middle;\n",
              "    }\n",
              "\n",
              "    .dataframe tbody tr th {\n",
              "        vertical-align: top;\n",
              "    }\n",
              "\n",
              "    .dataframe thead th {\n",
              "        text-align: right;\n",
              "    }\n",
              "</style>\n",
              "<table border=\"1\" class=\"dataframe\">\n",
              "  <thead>\n",
              "    <tr style=\"text-align: right;\">\n",
              "      <th></th>\n",
              "      <th>Temp</th>\n",
              "      <th>DO</th>\n",
              "      <th>pH</th>\n",
              "      <th>BOD</th>\n",
              "      <th>Nitrate</th>\n",
              "      <th>Faecal Coliform</th>\n",
              "      <th>WQI</th>\n",
              "      <th>water_label</th>\n",
              "    </tr>\n",
              "  </thead>\n",
              "  <tbody>\n",
              "    <tr>\n",
              "      <th>0</th>\n",
              "      <td>-1.167175</td>\n",
              "      <td>2.128130</td>\n",
              "      <td>-0.582328</td>\n",
              "      <td>-0.854222</td>\n",
              "      <td>-0.894501</td>\n",
              "      <td>-1.726094</td>\n",
              "      <td>72.747600</td>\n",
              "      <td>2</td>\n",
              "    </tr>\n",
              "    <tr>\n",
              "      <th>1</th>\n",
              "      <td>-1.167175</td>\n",
              "      <td>2.128130</td>\n",
              "      <td>-0.818200</td>\n",
              "      <td>-0.832647</td>\n",
              "      <td>-0.799162</td>\n",
              "      <td>-1.726094</td>\n",
              "      <td>72.617600</td>\n",
              "      <td>2</td>\n",
              "    </tr>\n",
              "    <tr>\n",
              "      <th>2</th>\n",
              "      <td>-0.799132</td>\n",
              "      <td>1.808248</td>\n",
              "      <td>-0.464392</td>\n",
              "      <td>-0.832647</td>\n",
              "      <td>-0.830942</td>\n",
              "      <td>-1.726094</td>\n",
              "      <td>71.507733</td>\n",
              "      <td>2</td>\n",
              "    </tr>\n",
              "    <tr>\n",
              "      <th>3</th>\n",
              "      <td>-1.167175</td>\n",
              "      <td>1.779168</td>\n",
              "      <td>-0.405424</td>\n",
              "      <td>-0.839839</td>\n",
              "      <td>-0.850010</td>\n",
              "      <td>-1.726094</td>\n",
              "      <td>72.610533</td>\n",
              "      <td>2</td>\n",
              "    </tr>\n",
              "    <tr>\n",
              "      <th>4</th>\n",
              "      <td>-1.167175</td>\n",
              "      <td>1.575607</td>\n",
              "      <td>-0.405424</td>\n",
              "      <td>-0.854222</td>\n",
              "      <td>-0.795031</td>\n",
              "      <td>-1.726094</td>\n",
              "      <td>72.640600</td>\n",
              "      <td>2</td>\n",
              "    </tr>\n",
              "    <tr>\n",
              "      <th>...</th>\n",
              "      <td>...</td>\n",
              "      <td>...</td>\n",
              "      <td>...</td>\n",
              "      <td>...</td>\n",
              "      <td>...</td>\n",
              "      <td>...</td>\n",
              "      <td>...</td>\n",
              "      <td>...</td>\n",
              "    </tr>\n",
              "    <tr>\n",
              "      <th>3933</th>\n",
              "      <td>-0.063048</td>\n",
              "      <td>-2.379298</td>\n",
              "      <td>-0.346456</td>\n",
              "      <td>2.720125</td>\n",
              "      <td>0.376687</td>\n",
              "      <td>2.618160</td>\n",
              "      <td>34.002667</td>\n",
              "      <td>0</td>\n",
              "    </tr>\n",
              "    <tr>\n",
              "      <th>3934</th>\n",
              "      <td>-0.615111</td>\n",
              "      <td>-0.052883</td>\n",
              "      <td>-2.115497</td>\n",
              "      <td>-0.710386</td>\n",
              "      <td>-0.767383</td>\n",
              "      <td>-0.409242</td>\n",
              "      <td>57.622267</td>\n",
              "      <td>2</td>\n",
              "    </tr>\n",
              "    <tr>\n",
              "      <th>3935</th>\n",
              "      <td>-0.615111</td>\n",
              "      <td>0.499640</td>\n",
              "      <td>0.832905</td>\n",
              "      <td>-0.516206</td>\n",
              "      <td>-0.862722</td>\n",
              "      <td>0.233400</td>\n",
              "      <td>51.195733</td>\n",
              "      <td>1</td>\n",
              "    </tr>\n",
              "    <tr>\n",
              "      <th>3936</th>\n",
              "      <td>-0.615111</td>\n",
              "      <td>0.121598</td>\n",
              "      <td>-1.172008</td>\n",
              "      <td>-0.731961</td>\n",
              "      <td>-1.021620</td>\n",
              "      <td>-0.277941</td>\n",
              "      <td>58.596000</td>\n",
              "      <td>2</td>\n",
              "    </tr>\n",
              "    <tr>\n",
              "      <th>3937</th>\n",
              "      <td>-0.983154</td>\n",
              "      <td>0.034357</td>\n",
              "      <td>-2.823113</td>\n",
              "      <td>-0.660043</td>\n",
              "      <td>-0.799162</td>\n",
              "      <td>-0.434317</td>\n",
              "      <td>47.926933</td>\n",
              "      <td>1</td>\n",
              "    </tr>\n",
              "  </tbody>\n",
              "</table>\n",
              "<p>3938 rows × 8 columns</p>\n",
              "</div>"
            ],
            "text/plain": [
              "          Temp        DO        pH  ...  Faecal Coliform        WQI  water_label\n",
              "0    -1.167175  2.128130 -0.582328  ...        -1.726094  72.747600            2\n",
              "1    -1.167175  2.128130 -0.818200  ...        -1.726094  72.617600            2\n",
              "2    -0.799132  1.808248 -0.464392  ...        -1.726094  71.507733            2\n",
              "3    -1.167175  1.779168 -0.405424  ...        -1.726094  72.610533            2\n",
              "4    -1.167175  1.575607 -0.405424  ...        -1.726094  72.640600            2\n",
              "...        ...       ...       ...  ...              ...        ...          ...\n",
              "3933 -0.063048 -2.379298 -0.346456  ...         2.618160  34.002667            0\n",
              "3934 -0.615111 -0.052883 -2.115497  ...        -0.409242  57.622267            2\n",
              "3935 -0.615111  0.499640  0.832905  ...         0.233400  51.195733            1\n",
              "3936 -0.615111  0.121598 -1.172008  ...        -0.277941  58.596000            2\n",
              "3937 -0.983154  0.034357 -2.823113  ...        -0.434317  47.926933            1\n",
              "\n",
              "[3938 rows x 8 columns]"
            ]
          },
          "metadata": {
            "tags": []
          },
          "execution_count": 232
        }
      ]
    },
    {
      "cell_type": "markdown",
      "metadata": {
        "id": "8x2opdL9w70e"
      },
      "source": [
        "## Classfication of Water Quality"
      ]
    },
    {
      "cell_type": "code",
      "metadata": {
        "colab": {
          "base_uri": "https://localhost:8080/",
          "height": 225
        },
        "id": "8GLLSAtlw5FS",
        "outputId": "37e0260d-3be4-4d7c-9413-e05fb054fb8a"
      },
      "source": [
        "results = []\r\n",
        "model_logistic = LogisticRegression()\r\n",
        "for col in list(final_data.columns)[:-2]:\r\n",
        "  tmp_data = final_data.drop([col],axis=1)\r\n",
        "  training_data = tmp_data.values\r\n",
        "  X = training_data[:,:-2]; y = training_data[:,-1]\r\n",
        "  Xtrain,Xtest,ytrain,ytest = train_test_split(X, y ,test_size = 0.20)\r\n",
        "  model_logistic.fit(Xtrain,ytrain)\r\n",
        "  y_pred = model_logistic.predict(Xtest)\r\n",
        "  avg_score = model_logistic.score(Xtest,ytest)\r\n",
        "  # r2_score = np.mean(cross_val_score(model_linear,X,y,cv=5))\r\n",
        "  # mse_loss = MSE(ytest,y_pred,squared=True)\r\n",
        "  # rmse_loss = MSE(ytest,y_pred,squared=False)\r\n",
        "  # mae_loss = MAE(ytest,y_pred)\r\n",
        "  results.append([col,avg_score])\r\n",
        "results_ = pd.DataFrame(np.array(results),columns=['Excluded Feature','score'])\r\n",
        "results_"
      ],
      "execution_count": 239,
      "outputs": [
        {
          "output_type": "execute_result",
          "data": {
            "text/html": [
              "<div>\n",
              "<style scoped>\n",
              "    .dataframe tbody tr th:only-of-type {\n",
              "        vertical-align: middle;\n",
              "    }\n",
              "\n",
              "    .dataframe tbody tr th {\n",
              "        vertical-align: top;\n",
              "    }\n",
              "\n",
              "    .dataframe thead th {\n",
              "        text-align: right;\n",
              "    }\n",
              "</style>\n",
              "<table border=\"1\" class=\"dataframe\">\n",
              "  <thead>\n",
              "    <tr style=\"text-align: right;\">\n",
              "      <th></th>\n",
              "      <th>Excluded Feature</th>\n",
              "      <th>score</th>\n",
              "    </tr>\n",
              "  </thead>\n",
              "  <tbody>\n",
              "    <tr>\n",
              "      <th>0</th>\n",
              "      <td>Temp</td>\n",
              "      <td>0.8794416243654822</td>\n",
              "    </tr>\n",
              "    <tr>\n",
              "      <th>1</th>\n",
              "      <td>DO</td>\n",
              "      <td>0.9416243654822335</td>\n",
              "    </tr>\n",
              "    <tr>\n",
              "      <th>2</th>\n",
              "      <td>pH</td>\n",
              "      <td>0.9441624365482234</td>\n",
              "    </tr>\n",
              "    <tr>\n",
              "      <th>3</th>\n",
              "      <td>BOD</td>\n",
              "      <td>0.8654822335025381</td>\n",
              "    </tr>\n",
              "    <tr>\n",
              "      <th>4</th>\n",
              "      <td>Nitrate</td>\n",
              "      <td>0.9238578680203046</td>\n",
              "    </tr>\n",
              "    <tr>\n",
              "      <th>5</th>\n",
              "      <td>Faecal Coliform</td>\n",
              "      <td>0.766497461928934</td>\n",
              "    </tr>\n",
              "  </tbody>\n",
              "</table>\n",
              "</div>"
            ],
            "text/plain": [
              "  Excluded Feature               score\n",
              "0             Temp  0.8794416243654822\n",
              "1               DO  0.9416243654822335\n",
              "2               pH  0.9441624365482234\n",
              "3              BOD  0.8654822335025381\n",
              "4          Nitrate  0.9238578680203046\n",
              "5  Faecal Coliform   0.766497461928934"
            ]
          },
          "metadata": {
            "tags": []
          },
          "execution_count": 239
        }
      ]
    },
    {
      "cell_type": "code",
      "metadata": {
        "id": "IVUiY3d10Civ"
      },
      "source": [
        ""
      ],
      "execution_count": null,
      "outputs": []
    }
  ]
}