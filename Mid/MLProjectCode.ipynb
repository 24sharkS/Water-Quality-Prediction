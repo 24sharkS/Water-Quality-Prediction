{
 "cells": [
  {
   "cell_type": "code",
   "execution_count": 1,
   "metadata": {
    "id": "XaFLpa2kbSky"
   },
   "outputs": [],
   "source": [
    "import pandas as pd"
   ]
  },
  {
   "cell_type": "code",
   "execution_count": 2,
   "metadata": {
    "id": "F8EknWClbSk0"
   },
   "outputs": [],
   "source": [
    "file = pd.read_csv(\"water.csv\")"
   ]
  },
  {
   "cell_type": "code",
   "execution_count": 3,
   "metadata": {
    "colab": {
     "base_uri": "https://localhost:8080/",
     "height": 336
    },
    "id": "3wQg7VgGbSk2",
    "outputId": "b7dcf02f-a199-423d-ecc9-1a8989a8282b",
    "scrolled": true
   },
   "outputs": [
    {
     "data": {
      "text/plain": [
       "Station Number         float64\n",
       "State                   object\n",
       "Temp Min               float64\n",
       "Temp Max               float64\n",
       "DO Min                 float64\n",
       "DO Max                 float64\n",
       "pH Min                 float64\n",
       "pH Max                 float64\n",
       "Conductivity Min       float64\n",
       "Conductivity Max       float64\n",
       "BOD Min                float64\n",
       "BOD Max                float64\n",
       "Nitrate Min            float64\n",
       "Nitrate Max            float64\n",
       "Faecal Coliform Min    float64\n",
       "Faecal Coliform Max    float64\n",
       "Total Coliform Min     float64\n",
       "Total Coliform Max       int64\n",
       "dtype: object"
      ]
     },
     "execution_count": 3,
     "metadata": {},
     "output_type": "execute_result"
    }
   ],
   "source": [
    "file.dtypes"
   ]
  },
  {
   "cell_type": "code",
   "execution_count": 4,
   "metadata": {
    "colab": {
     "base_uri": "https://localhost:8080/",
     "height": 539
    },
    "id": "Y0vo4fASbSk5",
    "outputId": "013eca33-5600-466d-8fdd-ff26be65159e"
   },
   "outputs": [
    {
     "data": {
      "text/html": [
       "<div>\n",
       "<style scoped>\n",
       "    .dataframe tbody tr th:only-of-type {\n",
       "        vertical-align: middle;\n",
       "    }\n",
       "\n",
       "    .dataframe tbody tr th {\n",
       "        vertical-align: top;\n",
       "    }\n",
       "\n",
       "    .dataframe thead th {\n",
       "        text-align: right;\n",
       "    }\n",
       "</style>\n",
       "<table border=\"1\" class=\"dataframe\">\n",
       "  <thead>\n",
       "    <tr style=\"text-align: right;\">\n",
       "      <th></th>\n",
       "      <th>Station Number</th>\n",
       "      <th>State</th>\n",
       "      <th>Temp Min</th>\n",
       "      <th>Temp Max</th>\n",
       "      <th>DO Min</th>\n",
       "      <th>DO Max</th>\n",
       "      <th>pH Min</th>\n",
       "      <th>pH Max</th>\n",
       "      <th>Conductivity Min</th>\n",
       "      <th>Conductivity Max</th>\n",
       "      <th>BOD Min</th>\n",
       "      <th>BOD Max</th>\n",
       "      <th>Nitrate Min</th>\n",
       "      <th>Nitrate Max</th>\n",
       "      <th>Faecal Coliform Min</th>\n",
       "      <th>Faecal Coliform Max</th>\n",
       "      <th>Total Coliform Min</th>\n",
       "      <th>Total Coliform Max</th>\n",
       "    </tr>\n",
       "  </thead>\n",
       "  <tbody>\n",
       "    <tr>\n",
       "      <td>0</td>\n",
       "      <td>1867.0</td>\n",
       "      <td>HIMACHAL\\n PRADESH</td>\n",
       "      <td>9.0</td>\n",
       "      <td>12.0</td>\n",
       "      <td>9.7</td>\n",
       "      <td>10.1</td>\n",
       "      <td>6.80</td>\n",
       "      <td>8.00</td>\n",
       "      <td>92.0</td>\n",
       "      <td>366.0</td>\n",
       "      <td>0.1</td>\n",
       "      <td>0.2</td>\n",
       "      <td>0.2</td>\n",
       "      <td>0.200</td>\n",
       "      <td>2.0</td>\n",
       "      <td>2.0</td>\n",
       "      <td>20.0</td>\n",
       "      <td>20</td>\n",
       "    </tr>\n",
       "    <tr>\n",
       "      <td>1</td>\n",
       "      <td>2611.0</td>\n",
       "      <td>HIMACHAL\\n PRADESH</td>\n",
       "      <td>9.0</td>\n",
       "      <td>12.0</td>\n",
       "      <td>9.7</td>\n",
       "      <td>10.1</td>\n",
       "      <td>6.70</td>\n",
       "      <td>7.90</td>\n",
       "      <td>84.0</td>\n",
       "      <td>327.0</td>\n",
       "      <td>0.1</td>\n",
       "      <td>0.5</td>\n",
       "      <td>0.2</td>\n",
       "      <td>0.500</td>\n",
       "      <td>2.0</td>\n",
       "      <td>2.0</td>\n",
       "      <td>20.0</td>\n",
       "      <td>20</td>\n",
       "    </tr>\n",
       "    <tr>\n",
       "      <td>2</td>\n",
       "      <td>1389.0</td>\n",
       "      <td>HIMACHAL\\n PRADESH</td>\n",
       "      <td>12.0</td>\n",
       "      <td>17.0</td>\n",
       "      <td>9.1</td>\n",
       "      <td>9.6</td>\n",
       "      <td>6.80</td>\n",
       "      <td>8.10</td>\n",
       "      <td>92.0</td>\n",
       "      <td>330.0</td>\n",
       "      <td>0.1</td>\n",
       "      <td>0.5</td>\n",
       "      <td>0.2</td>\n",
       "      <td>0.400</td>\n",
       "      <td>2.0</td>\n",
       "      <td>2.0</td>\n",
       "      <td>20.0</td>\n",
       "      <td>20</td>\n",
       "    </tr>\n",
       "    <tr>\n",
       "      <td>3</td>\n",
       "      <td>1086.0</td>\n",
       "      <td>HIMACHAL\\n PRADESH</td>\n",
       "      <td>14.0</td>\n",
       "      <td>17.0</td>\n",
       "      <td>8.8</td>\n",
       "      <td>9.8</td>\n",
       "      <td>6.96</td>\n",
       "      <td>7.99</td>\n",
       "      <td>107.0</td>\n",
       "      <td>309.0</td>\n",
       "      <td>0.1</td>\n",
       "      <td>0.4</td>\n",
       "      <td>0.2</td>\n",
       "      <td>0.340</td>\n",
       "      <td>2.0</td>\n",
       "      <td>2.0</td>\n",
       "      <td>21.0</td>\n",
       "      <td>21</td>\n",
       "    </tr>\n",
       "    <tr>\n",
       "      <td>4</td>\n",
       "      <td>1087.0</td>\n",
       "      <td>HIMACHAL\\n PRADESH</td>\n",
       "      <td>14.0</td>\n",
       "      <td>17.0</td>\n",
       "      <td>8.7</td>\n",
       "      <td>9.2</td>\n",
       "      <td>6.91</td>\n",
       "      <td>8.04</td>\n",
       "      <td>102.0</td>\n",
       "      <td>298.0</td>\n",
       "      <td>0.1</td>\n",
       "      <td>0.2</td>\n",
       "      <td>0.2</td>\n",
       "      <td>0.513</td>\n",
       "      <td>2.0</td>\n",
       "      <td>2.0</td>\n",
       "      <td>25.0</td>\n",
       "      <td>25</td>\n",
       "    </tr>\n",
       "    <tr>\n",
       "      <td>...</td>\n",
       "      <td>...</td>\n",
       "      <td>...</td>\n",
       "      <td>...</td>\n",
       "      <td>...</td>\n",
       "      <td>...</td>\n",
       "      <td>...</td>\n",
       "      <td>...</td>\n",
       "      <td>...</td>\n",
       "      <td>...</td>\n",
       "      <td>...</td>\n",
       "      <td>...</td>\n",
       "      <td>...</td>\n",
       "      <td>...</td>\n",
       "      <td>...</td>\n",
       "      <td>...</td>\n",
       "      <td>...</td>\n",
       "      <td>...</td>\n",
       "      <td>...</td>\n",
       "    </tr>\n",
       "    <tr>\n",
       "      <td>1291</td>\n",
       "      <td>3020.0</td>\n",
       "      <td>TAMIL NADU</td>\n",
       "      <td>27.0</td>\n",
       "      <td>33.0</td>\n",
       "      <td>4.5</td>\n",
       "      <td>6.7</td>\n",
       "      <td>7.20</td>\n",
       "      <td>8.20</td>\n",
       "      <td>285.0</td>\n",
       "      <td>540.0</td>\n",
       "      <td>1.0</td>\n",
       "      <td>2.4</td>\n",
       "      <td>0.0</td>\n",
       "      <td>1.000</td>\n",
       "      <td>460.0</td>\n",
       "      <td>700.0</td>\n",
       "      <td>630.0</td>\n",
       "      <td>1100</td>\n",
       "    </tr>\n",
       "    <tr>\n",
       "      <td>1292</td>\n",
       "      <td>3021.0</td>\n",
       "      <td>TAMIL NADU</td>\n",
       "      <td>27.0</td>\n",
       "      <td>33.0</td>\n",
       "      <td>5.9</td>\n",
       "      <td>7.6</td>\n",
       "      <td>7.60</td>\n",
       "      <td>8.50</td>\n",
       "      <td>290.0</td>\n",
       "      <td>530.0</td>\n",
       "      <td>0.6</td>\n",
       "      <td>1.7</td>\n",
       "      <td>0.0</td>\n",
       "      <td>1.100</td>\n",
       "      <td>490.0</td>\n",
       "      <td>790.0</td>\n",
       "      <td>840.0</td>\n",
       "      <td>1400</td>\n",
       "    </tr>\n",
       "    <tr>\n",
       "      <td>1293</td>\n",
       "      <td>3024.0</td>\n",
       "      <td>TAMIL NADU</td>\n",
       "      <td>25.0</td>\n",
       "      <td>31.0</td>\n",
       "      <td>3.5</td>\n",
       "      <td>5.4</td>\n",
       "      <td>6.60</td>\n",
       "      <td>8.40</td>\n",
       "      <td>1900.0</td>\n",
       "      <td>3890.0</td>\n",
       "      <td>7.8</td>\n",
       "      <td>78.0</td>\n",
       "      <td>0.0</td>\n",
       "      <td>2.200</td>\n",
       "      <td>4900.0</td>\n",
       "      <td>5400000.0</td>\n",
       "      <td>9400.0</td>\n",
       "      <td>9400000</td>\n",
       "    </tr>\n",
       "    <tr>\n",
       "      <td>1294</td>\n",
       "      <td>NaN</td>\n",
       "      <td>NaN</td>\n",
       "      <td>NaN</td>\n",
       "      <td>NaN</td>\n",
       "      <td>NaN</td>\n",
       "      <td>NaN</td>\n",
       "      <td>NaN</td>\n",
       "      <td>NaN</td>\n",
       "      <td>NaN</td>\n",
       "      <td>NaN</td>\n",
       "      <td>NaN</td>\n",
       "      <td>NaN</td>\n",
       "      <td>NaN</td>\n",
       "      <td>NaN</td>\n",
       "      <td>NaN</td>\n",
       "      <td>NaN</td>\n",
       "      <td>NaN</td>\n",
       "      <td>92000000</td>\n",
       "    </tr>\n",
       "    <tr>\n",
       "      <td>1295</td>\n",
       "      <td>NaN</td>\n",
       "      <td>NaN</td>\n",
       "      <td>NaN</td>\n",
       "      <td>NaN</td>\n",
       "      <td>NaN</td>\n",
       "      <td>NaN</td>\n",
       "      <td>NaN</td>\n",
       "      <td>NaN</td>\n",
       "      <td>NaN</td>\n",
       "      <td>NaN</td>\n",
       "      <td>NaN</td>\n",
       "      <td>NaN</td>\n",
       "      <td>NaN</td>\n",
       "      <td>NaN</td>\n",
       "      <td>NaN</td>\n",
       "      <td>NaN</td>\n",
       "      <td>NaN</td>\n",
       "      <td>92000000</td>\n",
       "    </tr>\n",
       "  </tbody>\n",
       "</table>\n",
       "<p>1296 rows × 18 columns</p>\n",
       "</div>"
      ],
      "text/plain": [
       "      Station Number               State  Temp Min  Temp Max  DO Min  DO Max  \\\n",
       "0             1867.0  HIMACHAL\\n PRADESH       9.0      12.0     9.7    10.1   \n",
       "1             2611.0  HIMACHAL\\n PRADESH       9.0      12.0     9.7    10.1   \n",
       "2             1389.0  HIMACHAL\\n PRADESH      12.0      17.0     9.1     9.6   \n",
       "3             1086.0  HIMACHAL\\n PRADESH      14.0      17.0     8.8     9.8   \n",
       "4             1087.0  HIMACHAL\\n PRADESH      14.0      17.0     8.7     9.2   \n",
       "...              ...                 ...       ...       ...     ...     ...   \n",
       "1291          3020.0          TAMIL NADU      27.0      33.0     4.5     6.7   \n",
       "1292          3021.0          TAMIL NADU      27.0      33.0     5.9     7.6   \n",
       "1293          3024.0          TAMIL NADU      25.0      31.0     3.5     5.4   \n",
       "1294             NaN                 NaN       NaN       NaN     NaN     NaN   \n",
       "1295             NaN                 NaN       NaN       NaN     NaN     NaN   \n",
       "\n",
       "      pH Min  pH Max  Conductivity Min  Conductivity Max  BOD Min  BOD Max  \\\n",
       "0       6.80    8.00              92.0             366.0      0.1      0.2   \n",
       "1       6.70    7.90              84.0             327.0      0.1      0.5   \n",
       "2       6.80    8.10              92.0             330.0      0.1      0.5   \n",
       "3       6.96    7.99             107.0             309.0      0.1      0.4   \n",
       "4       6.91    8.04             102.0             298.0      0.1      0.2   \n",
       "...      ...     ...               ...               ...      ...      ...   \n",
       "1291    7.20    8.20             285.0             540.0      1.0      2.4   \n",
       "1292    7.60    8.50             290.0             530.0      0.6      1.7   \n",
       "1293    6.60    8.40            1900.0            3890.0      7.8     78.0   \n",
       "1294     NaN     NaN               NaN               NaN      NaN      NaN   \n",
       "1295     NaN     NaN               NaN               NaN      NaN      NaN   \n",
       "\n",
       "      Nitrate Min  Nitrate Max  Faecal Coliform Min  Faecal Coliform Max  \\\n",
       "0             0.2        0.200                  2.0                  2.0   \n",
       "1             0.2        0.500                  2.0                  2.0   \n",
       "2             0.2        0.400                  2.0                  2.0   \n",
       "3             0.2        0.340                  2.0                  2.0   \n",
       "4             0.2        0.513                  2.0                  2.0   \n",
       "...           ...          ...                  ...                  ...   \n",
       "1291          0.0        1.000                460.0                700.0   \n",
       "1292          0.0        1.100                490.0                790.0   \n",
       "1293          0.0        2.200               4900.0            5400000.0   \n",
       "1294          NaN          NaN                  NaN                  NaN   \n",
       "1295          NaN          NaN                  NaN                  NaN   \n",
       "\n",
       "      Total Coliform Min  Total Coliform Max  \n",
       "0                   20.0                  20  \n",
       "1                   20.0                  20  \n",
       "2                   20.0                  20  \n",
       "3                   21.0                  21  \n",
       "4                   25.0                  25  \n",
       "...                  ...                 ...  \n",
       "1291               630.0                1100  \n",
       "1292               840.0                1400  \n",
       "1293              9400.0             9400000  \n",
       "1294                 NaN            92000000  \n",
       "1295                 NaN            92000000  \n",
       "\n",
       "[1296 rows x 18 columns]"
      ]
     },
     "execution_count": 4,
     "metadata": {},
     "output_type": "execute_result"
    }
   ],
   "source": [
    "file"
   ]
  },
  {
   "cell_type": "code",
   "execution_count": 5,
   "metadata": {
    "id": "QFjiWsh0bSk7"
   },
   "outputs": [],
   "source": [
    "import numpy as np"
   ]
  },
  {
   "cell_type": "code",
   "execution_count": 6,
   "metadata": {
    "id": "5BYiFyWgbSk9"
   },
   "outputs": [],
   "source": [
    "file_proc = file.drop(['Conductivity Min','Conductivity Max','Total Coliform Min','Total Coliform Max'],axis= 1)"
   ]
  },
  {
   "cell_type": "code",
   "execution_count": 7,
   "metadata": {
    "id": "3_amaP2hCYiT"
   },
   "outputs": [],
   "source": [
    "# file_proc[file_proc.isna().any(axis=1)]\n",
    "file_penum = file_proc.dropna()"
   ]
  },
  {
   "cell_type": "code",
   "execution_count": 8,
   "metadata": {
    "colab": {
     "base_uri": "https://localhost:8080/",
     "height": 64
    },
    "id": "Z42LreukbSlC",
    "outputId": "7cc34bb9-cd87-47ff-a082-4f3f836702c3"
   },
   "outputs": [
    {
     "data": {
      "text/html": [
       "<div>\n",
       "<style scoped>\n",
       "    .dataframe tbody tr th:only-of-type {\n",
       "        vertical-align: middle;\n",
       "    }\n",
       "\n",
       "    .dataframe tbody tr th {\n",
       "        vertical-align: top;\n",
       "    }\n",
       "\n",
       "    .dataframe thead th {\n",
       "        text-align: right;\n",
       "    }\n",
       "</style>\n",
       "<table border=\"1\" class=\"dataframe\">\n",
       "  <thead>\n",
       "    <tr style=\"text-align: right;\">\n",
       "      <th></th>\n",
       "      <th>Station Number</th>\n",
       "      <th>State</th>\n",
       "      <th>Temp Min</th>\n",
       "      <th>Temp Max</th>\n",
       "      <th>DO Min</th>\n",
       "      <th>DO Max</th>\n",
       "      <th>pH Min</th>\n",
       "      <th>pH Max</th>\n",
       "      <th>BOD Min</th>\n",
       "      <th>BOD Max</th>\n",
       "      <th>Nitrate Min</th>\n",
       "      <th>Nitrate Max</th>\n",
       "      <th>Faecal Coliform Min</th>\n",
       "      <th>Faecal Coliform Max</th>\n",
       "    </tr>\n",
       "  </thead>\n",
       "  <tbody>\n",
       "  </tbody>\n",
       "</table>\n",
       "</div>"
      ],
      "text/plain": [
       "Empty DataFrame\n",
       "Columns: [Station Number, State, Temp Min, Temp Max, DO Min, DO Max, pH Min, pH Max, BOD Min, BOD Max, Nitrate Min, Nitrate Max, Faecal Coliform Min, Faecal Coliform Max]\n",
       "Index: []"
      ]
     },
     "execution_count": 8,
     "metadata": {},
     "output_type": "execute_result"
    }
   ],
   "source": [
    "# duplicate\n",
    "duplicateRowsDF = file_penum[file_penum.duplicated()]\n",
    "duplicateRowsDF"
   ]
  },
  {
   "cell_type": "code",
   "execution_count": 9,
   "metadata": {
    "colab": {
     "base_uri": "https://localhost:8080/",
     "height": 502
    },
    "id": "u0Yk-CILbSlG",
    "outputId": "6349e3eb-1cf5-4b37-9634-d0af3d86bf27"
   },
   "outputs": [
    {
     "data": {
      "text/html": [
       "<div>\n",
       "<style scoped>\n",
       "    .dataframe tbody tr th:only-of-type {\n",
       "        vertical-align: middle;\n",
       "    }\n",
       "\n",
       "    .dataframe tbody tr th {\n",
       "        vertical-align: top;\n",
       "    }\n",
       "\n",
       "    .dataframe thead th {\n",
       "        text-align: right;\n",
       "    }\n",
       "</style>\n",
       "<table border=\"1\" class=\"dataframe\">\n",
       "  <thead>\n",
       "    <tr style=\"text-align: right;\">\n",
       "      <th></th>\n",
       "      <th>Station Number</th>\n",
       "      <th>State</th>\n",
       "      <th>Temp Min</th>\n",
       "      <th>Temp Max</th>\n",
       "      <th>DO Min</th>\n",
       "      <th>DO Max</th>\n",
       "      <th>pH Min</th>\n",
       "      <th>pH Max</th>\n",
       "      <th>BOD Min</th>\n",
       "      <th>BOD Max</th>\n",
       "      <th>Nitrate Min</th>\n",
       "      <th>Nitrate Max</th>\n",
       "      <th>Faecal Coliform Min</th>\n",
       "      <th>Faecal Coliform Max</th>\n",
       "    </tr>\n",
       "  </thead>\n",
       "  <tbody>\n",
       "    <tr>\n",
       "      <td>0</td>\n",
       "      <td>1867.0</td>\n",
       "      <td>HIMACHAL\\n PRADESH</td>\n",
       "      <td>9.0</td>\n",
       "      <td>12.0</td>\n",
       "      <td>9.7</td>\n",
       "      <td>10.1</td>\n",
       "      <td>6.80</td>\n",
       "      <td>8.00</td>\n",
       "      <td>0.1</td>\n",
       "      <td>0.2</td>\n",
       "      <td>0.2</td>\n",
       "      <td>0.200</td>\n",
       "      <td>2.0</td>\n",
       "      <td>2.0</td>\n",
       "    </tr>\n",
       "    <tr>\n",
       "      <td>1</td>\n",
       "      <td>2611.0</td>\n",
       "      <td>HIMACHAL\\n PRADESH</td>\n",
       "      <td>9.0</td>\n",
       "      <td>12.0</td>\n",
       "      <td>9.7</td>\n",
       "      <td>10.1</td>\n",
       "      <td>6.70</td>\n",
       "      <td>7.90</td>\n",
       "      <td>0.1</td>\n",
       "      <td>0.5</td>\n",
       "      <td>0.2</td>\n",
       "      <td>0.500</td>\n",
       "      <td>2.0</td>\n",
       "      <td>2.0</td>\n",
       "    </tr>\n",
       "    <tr>\n",
       "      <td>2</td>\n",
       "      <td>1389.0</td>\n",
       "      <td>HIMACHAL\\n PRADESH</td>\n",
       "      <td>12.0</td>\n",
       "      <td>17.0</td>\n",
       "      <td>9.1</td>\n",
       "      <td>9.6</td>\n",
       "      <td>6.80</td>\n",
       "      <td>8.10</td>\n",
       "      <td>0.1</td>\n",
       "      <td>0.5</td>\n",
       "      <td>0.2</td>\n",
       "      <td>0.400</td>\n",
       "      <td>2.0</td>\n",
       "      <td>2.0</td>\n",
       "    </tr>\n",
       "    <tr>\n",
       "      <td>3</td>\n",
       "      <td>1086.0</td>\n",
       "      <td>HIMACHAL\\n PRADESH</td>\n",
       "      <td>14.0</td>\n",
       "      <td>17.0</td>\n",
       "      <td>8.8</td>\n",
       "      <td>9.8</td>\n",
       "      <td>6.96</td>\n",
       "      <td>7.99</td>\n",
       "      <td>0.1</td>\n",
       "      <td>0.4</td>\n",
       "      <td>0.2</td>\n",
       "      <td>0.340</td>\n",
       "      <td>2.0</td>\n",
       "      <td>2.0</td>\n",
       "    </tr>\n",
       "    <tr>\n",
       "      <td>4</td>\n",
       "      <td>1087.0</td>\n",
       "      <td>HIMACHAL\\n PRADESH</td>\n",
       "      <td>14.0</td>\n",
       "      <td>17.0</td>\n",
       "      <td>8.7</td>\n",
       "      <td>9.2</td>\n",
       "      <td>6.91</td>\n",
       "      <td>8.04</td>\n",
       "      <td>0.1</td>\n",
       "      <td>0.2</td>\n",
       "      <td>0.2</td>\n",
       "      <td>0.513</td>\n",
       "      <td>2.0</td>\n",
       "      <td>2.0</td>\n",
       "    </tr>\n",
       "    <tr>\n",
       "      <td>...</td>\n",
       "      <td>...</td>\n",
       "      <td>...</td>\n",
       "      <td>...</td>\n",
       "      <td>...</td>\n",
       "      <td>...</td>\n",
       "      <td>...</td>\n",
       "      <td>...</td>\n",
       "      <td>...</td>\n",
       "      <td>...</td>\n",
       "      <td>...</td>\n",
       "      <td>...</td>\n",
       "      <td>...</td>\n",
       "      <td>...</td>\n",
       "      <td>...</td>\n",
       "    </tr>\n",
       "    <tr>\n",
       "      <td>1289</td>\n",
       "      <td>1205.0</td>\n",
       "      <td>TAMIL NADU</td>\n",
       "      <td>26.0</td>\n",
       "      <td>34.0</td>\n",
       "      <td>4.8</td>\n",
       "      <td>7.6</td>\n",
       "      <td>7.00</td>\n",
       "      <td>8.50</td>\n",
       "      <td>0.4</td>\n",
       "      <td>2.4</td>\n",
       "      <td>0.0</td>\n",
       "      <td>1.600</td>\n",
       "      <td>130.0</td>\n",
       "      <td>1200.0</td>\n",
       "    </tr>\n",
       "    <tr>\n",
       "      <td>1290</td>\n",
       "      <td>3019.0</td>\n",
       "      <td>TAMIL NADU</td>\n",
       "      <td>24.0</td>\n",
       "      <td>33.0</td>\n",
       "      <td>4.8</td>\n",
       "      <td>7.7</td>\n",
       "      <td>6.80</td>\n",
       "      <td>8.10</td>\n",
       "      <td>0.7</td>\n",
       "      <td>6.6</td>\n",
       "      <td>0.0</td>\n",
       "      <td>1.300</td>\n",
       "      <td>120.0</td>\n",
       "      <td>1100.0</td>\n",
       "    </tr>\n",
       "    <tr>\n",
       "      <td>1291</td>\n",
       "      <td>3020.0</td>\n",
       "      <td>TAMIL NADU</td>\n",
       "      <td>27.0</td>\n",
       "      <td>33.0</td>\n",
       "      <td>4.5</td>\n",
       "      <td>6.7</td>\n",
       "      <td>7.20</td>\n",
       "      <td>8.20</td>\n",
       "      <td>1.0</td>\n",
       "      <td>2.4</td>\n",
       "      <td>0.0</td>\n",
       "      <td>1.000</td>\n",
       "      <td>460.0</td>\n",
       "      <td>700.0</td>\n",
       "    </tr>\n",
       "    <tr>\n",
       "      <td>1292</td>\n",
       "      <td>3021.0</td>\n",
       "      <td>TAMIL NADU</td>\n",
       "      <td>27.0</td>\n",
       "      <td>33.0</td>\n",
       "      <td>5.9</td>\n",
       "      <td>7.6</td>\n",
       "      <td>7.60</td>\n",
       "      <td>8.50</td>\n",
       "      <td>0.6</td>\n",
       "      <td>1.7</td>\n",
       "      <td>0.0</td>\n",
       "      <td>1.100</td>\n",
       "      <td>490.0</td>\n",
       "      <td>790.0</td>\n",
       "    </tr>\n",
       "    <tr>\n",
       "      <td>1293</td>\n",
       "      <td>3024.0</td>\n",
       "      <td>TAMIL NADU</td>\n",
       "      <td>25.0</td>\n",
       "      <td>31.0</td>\n",
       "      <td>3.5</td>\n",
       "      <td>5.4</td>\n",
       "      <td>6.60</td>\n",
       "      <td>8.40</td>\n",
       "      <td>7.8</td>\n",
       "      <td>78.0</td>\n",
       "      <td>0.0</td>\n",
       "      <td>2.200</td>\n",
       "      <td>4900.0</td>\n",
       "      <td>5400000.0</td>\n",
       "    </tr>\n",
       "  </tbody>\n",
       "</table>\n",
       "<p>1291 rows × 14 columns</p>\n",
       "</div>"
      ],
      "text/plain": [
       "      Station Number               State  Temp Min  Temp Max  DO Min  DO Max  \\\n",
       "0             1867.0  HIMACHAL\\n PRADESH       9.0      12.0     9.7    10.1   \n",
       "1             2611.0  HIMACHAL\\n PRADESH       9.0      12.0     9.7    10.1   \n",
       "2             1389.0  HIMACHAL\\n PRADESH      12.0      17.0     9.1     9.6   \n",
       "3             1086.0  HIMACHAL\\n PRADESH      14.0      17.0     8.8     9.8   \n",
       "4             1087.0  HIMACHAL\\n PRADESH      14.0      17.0     8.7     9.2   \n",
       "...              ...                 ...       ...       ...     ...     ...   \n",
       "1289          1205.0          TAMIL NADU      26.0      34.0     4.8     7.6   \n",
       "1290          3019.0          TAMIL NADU      24.0      33.0     4.8     7.7   \n",
       "1291          3020.0          TAMIL NADU      27.0      33.0     4.5     6.7   \n",
       "1292          3021.0          TAMIL NADU      27.0      33.0     5.9     7.6   \n",
       "1293          3024.0          TAMIL NADU      25.0      31.0     3.5     5.4   \n",
       "\n",
       "      pH Min  pH Max  BOD Min  BOD Max  Nitrate Min  Nitrate Max  \\\n",
       "0       6.80    8.00      0.1      0.2          0.2        0.200   \n",
       "1       6.70    7.90      0.1      0.5          0.2        0.500   \n",
       "2       6.80    8.10      0.1      0.5          0.2        0.400   \n",
       "3       6.96    7.99      0.1      0.4          0.2        0.340   \n",
       "4       6.91    8.04      0.1      0.2          0.2        0.513   \n",
       "...      ...     ...      ...      ...          ...          ...   \n",
       "1289    7.00    8.50      0.4      2.4          0.0        1.600   \n",
       "1290    6.80    8.10      0.7      6.6          0.0        1.300   \n",
       "1291    7.20    8.20      1.0      2.4          0.0        1.000   \n",
       "1292    7.60    8.50      0.6      1.7          0.0        1.100   \n",
       "1293    6.60    8.40      7.8     78.0          0.0        2.200   \n",
       "\n",
       "      Faecal Coliform Min  Faecal Coliform Max  \n",
       "0                     2.0                  2.0  \n",
       "1                     2.0                  2.0  \n",
       "2                     2.0                  2.0  \n",
       "3                     2.0                  2.0  \n",
       "4                     2.0                  2.0  \n",
       "...                   ...                  ...  \n",
       "1289                130.0               1200.0  \n",
       "1290                120.0               1100.0  \n",
       "1291                460.0                700.0  \n",
       "1292                490.0                790.0  \n",
       "1293               4900.0            5400000.0  \n",
       "\n",
       "[1291 rows x 14 columns]"
      ]
     },
     "execution_count": 9,
     "metadata": {},
     "output_type": "execute_result"
    }
   ],
   "source": [
    "file_penum"
   ]
  },
  {
   "cell_type": "code",
   "execution_count": 10,
   "metadata": {
    "id": "0uvIdhLNbSlI"
   },
   "outputs": [],
   "source": [
    "data = np.array(file_penum.iloc[:,2:14])"
   ]
  },
  {
   "cell_type": "code",
   "execution_count": 11,
   "metadata": {
    "colab": {
     "base_uri": "https://localhost:8080/",
     "height": 134
    },
    "id": "Z1YN4F0fbSlK",
    "outputId": "a0456005-cb19-4854-dd7c-728995956cf3"
   },
   "outputs": [
    {
     "data": {
      "text/plain": [
       "array([[9.0e+00, 1.2e+01, 9.7e+00, ..., 2.0e-01, 2.0e+00, 2.0e+00],\n",
       "       [9.0e+00, 1.2e+01, 9.7e+00, ..., 5.0e-01, 2.0e+00, 2.0e+00],\n",
       "       [1.2e+01, 1.7e+01, 9.1e+00, ..., 4.0e-01, 2.0e+00, 2.0e+00],\n",
       "       ...,\n",
       "       [2.7e+01, 3.3e+01, 4.5e+00, ..., 1.0e+00, 4.6e+02, 7.0e+02],\n",
       "       [2.7e+01, 3.3e+01, 5.9e+00, ..., 1.1e+00, 4.9e+02, 7.9e+02],\n",
       "       [2.5e+01, 3.1e+01, 3.5e+00, ..., 2.2e+00, 4.9e+03, 5.4e+06]])"
      ]
     },
     "execution_count": 11,
     "metadata": {},
     "output_type": "execute_result"
    }
   ],
   "source": [
    "data"
   ]
  },
  {
   "cell_type": "code",
   "execution_count": 12,
   "metadata": {
    "colab": {
     "base_uri": "https://localhost:8080/",
     "height": 34
    },
    "id": "VwFb6ndnbSlM",
    "outputId": "57ee2ba6-ff19-4d49-88cd-13ba6ead00cc"
   },
   "outputs": [
    {
     "data": {
      "text/plain": [
       "(1291, 12)"
      ]
     },
     "execution_count": 12,
     "metadata": {},
     "output_type": "execute_result"
    }
   ],
   "source": [
    "data.shape"
   ]
  },
  {
   "cell_type": "code",
   "execution_count": 13,
   "metadata": {
    "colab": {
     "base_uri": "https://localhost:8080/",
     "height": 185
    },
    "id": "vJqZLa51Db_J",
    "outputId": "a5b7ed87-c9d2-4ce2-ed5f-76e65e409dd4"
   },
   "outputs": [
    {
     "data": {
      "text/plain": [
       "array([[ 9.   , 12.   ,  9.7  , 10.1  ,  6.8  ,  8.   ,  0.1  ,  0.2  ,\n",
       "         0.2  ,  0.2  ,  2.   ,  2.   ],\n",
       "       [ 9.   , 12.   ,  9.7  , 10.1  ,  6.7  ,  7.9  ,  0.1  ,  0.5  ,\n",
       "         0.2  ,  0.5  ,  2.   ,  2.   ],\n",
       "       [12.   , 17.   ,  9.1  ,  9.6  ,  6.8  ,  8.1  ,  0.1  ,  0.5  ,\n",
       "         0.2  ,  0.4  ,  2.   ,  2.   ],\n",
       "       [14.   , 17.   ,  8.8  ,  9.8  ,  6.96 ,  7.99 ,  0.1  ,  0.4  ,\n",
       "         0.2  ,  0.34 ,  2.   ,  2.   ],\n",
       "       [14.   , 17.   ,  8.7  ,  9.2  ,  6.91 ,  8.04 ,  0.1  ,  0.2  ,\n",
       "         0.2  ,  0.513,  2.   ,  2.   ]])"
      ]
     },
     "execution_count": 13,
     "metadata": {},
     "output_type": "execute_result"
    }
   ],
   "source": [
    "data[:5,:]"
   ]
  },
  {
   "cell_type": "code",
   "execution_count": 14,
   "metadata": {
    "id": "xFo4zbqfbSlP"
   },
   "outputs": [],
   "source": [
    "final_col_list = []\n",
    "for i in range(0,12,2):\n",
    "    col_mean = (data[:,i] + data[:,i+1])/2\n",
    "    final_col_list.append(col_mean)\n",
    "\n",
    "# transpose this\n",
    "tmp_arr = np.array(final_col_list)"
   ]
  },
  {
   "cell_type": "code",
   "execution_count": 15,
   "metadata": {
    "colab": {
     "base_uri": "https://localhost:8080/",
     "height": 235
    },
    "id": "WL_Q7zJ8bSlR",
    "outputId": "42e74542-f1b0-407e-fed4-c856afa0d693"
   },
   "outputs": [
    {
     "data": {
      "text/plain": [
       "array([[1.05000e+01, 9.90000e+00, 7.40000e+00, 1.50000e-01, 2.00000e-01,\n",
       "        2.00000e+00],\n",
       "       [1.05000e+01, 9.90000e+00, 7.30000e+00, 3.00000e-01, 3.50000e-01,\n",
       "        2.00000e+00],\n",
       "       [1.45000e+01, 9.35000e+00, 7.45000e+00, 3.00000e-01, 3.00000e-01,\n",
       "        2.00000e+00],\n",
       "       ...,\n",
       "       [3.00000e+01, 5.60000e+00, 7.70000e+00, 1.70000e+00, 5.00000e-01,\n",
       "        5.80000e+02],\n",
       "       [3.00000e+01, 6.75000e+00, 8.05000e+00, 1.15000e+00, 5.50000e-01,\n",
       "        6.40000e+02],\n",
       "       [2.80000e+01, 4.45000e+00, 7.50000e+00, 4.29000e+01, 1.10000e+00,\n",
       "        2.70245e+06]])"
      ]
     },
     "execution_count": 15,
     "metadata": {},
     "output_type": "execute_result"
    }
   ],
   "source": [
    "# convert this to pandas dataframe\n",
    "tmp_arr.T"
   ]
  },
  {
   "cell_type": "code",
   "execution_count": 125,
   "metadata": {
    "colab": {
     "base_uri": "https://localhost:8080/",
     "height": 34
    },
    "id": "5YpkCWTIbSlT",
    "outputId": "54d45c2a-f828-4438-f0ad-b4843efaab36"
   },
   "outputs": [
    {
     "data": {
      "text/html": [
       "<div>\n",
       "<style scoped>\n",
       "    .dataframe tbody tr th:only-of-type {\n",
       "        vertical-align: middle;\n",
       "    }\n",
       "\n",
       "    .dataframe tbody tr th {\n",
       "        vertical-align: top;\n",
       "    }\n",
       "\n",
       "    .dataframe thead th {\n",
       "        text-align: right;\n",
       "    }\n",
       "</style>\n",
       "<table border=\"1\" class=\"dataframe\">\n",
       "  <thead>\n",
       "    <tr style=\"text-align: right;\">\n",
       "      <th></th>\n",
       "      <th>Temp</th>\n",
       "      <th>DO</th>\n",
       "      <th>pH</th>\n",
       "      <th>BOD</th>\n",
       "      <th>Nitrate</th>\n",
       "      <th>Faecal Coliform</th>\n",
       "    </tr>\n",
       "  </thead>\n",
       "  <tbody>\n",
       "    <tr>\n",
       "      <td>0</td>\n",
       "      <td>10.5</td>\n",
       "      <td>9.90</td>\n",
       "      <td>7.400</td>\n",
       "      <td>0.15</td>\n",
       "      <td>0.2000</td>\n",
       "      <td>2.0</td>\n",
       "    </tr>\n",
       "    <tr>\n",
       "      <td>1</td>\n",
       "      <td>10.5</td>\n",
       "      <td>9.90</td>\n",
       "      <td>7.300</td>\n",
       "      <td>0.30</td>\n",
       "      <td>0.3500</td>\n",
       "      <td>2.0</td>\n",
       "    </tr>\n",
       "    <tr>\n",
       "      <td>2</td>\n",
       "      <td>14.5</td>\n",
       "      <td>9.35</td>\n",
       "      <td>7.450</td>\n",
       "      <td>0.30</td>\n",
       "      <td>0.3000</td>\n",
       "      <td>2.0</td>\n",
       "    </tr>\n",
       "    <tr>\n",
       "      <td>3</td>\n",
       "      <td>15.5</td>\n",
       "      <td>9.30</td>\n",
       "      <td>7.475</td>\n",
       "      <td>0.25</td>\n",
       "      <td>0.2700</td>\n",
       "      <td>2.0</td>\n",
       "    </tr>\n",
       "    <tr>\n",
       "      <td>4</td>\n",
       "      <td>15.5</td>\n",
       "      <td>8.95</td>\n",
       "      <td>7.475</td>\n",
       "      <td>0.15</td>\n",
       "      <td>0.3565</td>\n",
       "      <td>2.0</td>\n",
       "    </tr>\n",
       "    <tr>\n",
       "      <td>...</td>\n",
       "      <td>...</td>\n",
       "      <td>...</td>\n",
       "      <td>...</td>\n",
       "      <td>...</td>\n",
       "      <td>...</td>\n",
       "      <td>...</td>\n",
       "    </tr>\n",
       "    <tr>\n",
       "      <td>1286</td>\n",
       "      <td>30.0</td>\n",
       "      <td>6.20</td>\n",
       "      <td>7.750</td>\n",
       "      <td>1.40</td>\n",
       "      <td>0.8000</td>\n",
       "      <td>665.0</td>\n",
       "    </tr>\n",
       "    <tr>\n",
       "      <td>1287</td>\n",
       "      <td>28.5</td>\n",
       "      <td>6.25</td>\n",
       "      <td>7.450</td>\n",
       "      <td>3.65</td>\n",
       "      <td>0.6500</td>\n",
       "      <td>610.0</td>\n",
       "    </tr>\n",
       "    <tr>\n",
       "      <td>1288</td>\n",
       "      <td>30.0</td>\n",
       "      <td>5.60</td>\n",
       "      <td>7.700</td>\n",
       "      <td>1.70</td>\n",
       "      <td>0.5000</td>\n",
       "      <td>580.0</td>\n",
       "    </tr>\n",
       "    <tr>\n",
       "      <td>1289</td>\n",
       "      <td>30.0</td>\n",
       "      <td>6.75</td>\n",
       "      <td>8.050</td>\n",
       "      <td>1.15</td>\n",
       "      <td>0.5500</td>\n",
       "      <td>640.0</td>\n",
       "    </tr>\n",
       "    <tr>\n",
       "      <td>1290</td>\n",
       "      <td>28.0</td>\n",
       "      <td>4.45</td>\n",
       "      <td>7.500</td>\n",
       "      <td>42.90</td>\n",
       "      <td>1.1000</td>\n",
       "      <td>2702450.0</td>\n",
       "    </tr>\n",
       "  </tbody>\n",
       "</table>\n",
       "<p>1291 rows × 6 columns</p>\n",
       "</div>"
      ],
      "text/plain": [
       "      Temp    DO     pH    BOD  Nitrate  Faecal Coliform\n",
       "0     10.5  9.90  7.400   0.15   0.2000              2.0\n",
       "1     10.5  9.90  7.300   0.30   0.3500              2.0\n",
       "2     14.5  9.35  7.450   0.30   0.3000              2.0\n",
       "3     15.5  9.30  7.475   0.25   0.2700              2.0\n",
       "4     15.5  8.95  7.475   0.15   0.3565              2.0\n",
       "...    ...   ...    ...    ...      ...              ...\n",
       "1286  30.0  6.20  7.750   1.40   0.8000            665.0\n",
       "1287  28.5  6.25  7.450   3.65   0.6500            610.0\n",
       "1288  30.0  5.60  7.700   1.70   0.5000            580.0\n",
       "1289  30.0  6.75  8.050   1.15   0.5500            640.0\n",
       "1290  28.0  4.45  7.500  42.90   1.1000        2702450.0\n",
       "\n",
       "[1291 rows x 6 columns]"
      ]
     },
     "execution_count": 125,
     "metadata": {},
     "output_type": "execute_result"
    }
   ],
   "source": [
    "# final_preprocessed data\n",
    "final_df = pd.DataFrame(tmp_arr.T,columns = ['Temp','DO','pH','BOD','Nitrate','Faecal Coliform'])\n",
    "final_df"
   ]
  },
  {
   "cell_type": "code",
   "execution_count": 118,
   "metadata": {},
   "outputs": [],
   "source": [
    "# from sklearn.preprocessing import MinMaxScaler\n",
    "# scaler = MinMaxScaler()\n",
    "# final_df = pd.DataFrame(scaler.fit_transform(final_df),columns = ['Temp','DO','pH','BOD','Nitrate','Faecal Coliform'])\n",
    "# final_df"
   ]
  },
  {
   "cell_type": "markdown",
   "metadata": {
    "id": "ECaW90uIfchJ"
   },
   "source": [
    "## Initial Weights as in paper\n",
    "- Temp - 0.10\n",
    "- DO - 0.17\n",
    "- pH - 0.11\n",
    "- BOD - 0.11\n",
    "- Nitrate - 0.10\n",
    "- Faecal Coliform - 0.16\n",
    "\n",
    "## Initial weights adjusted\n",
    "- Temp - 0.1333333333333333\n",
    "- DO - 0.2266666666666667\n",
    "- pH - 0.1466666666666667\n",
    "- BOD - 0.1466666666666667\n",
    "- Nitrate - 0.1333333333333333\n",
    "- Faecal Coliform - 0.2133333333333333"
   ]
  },
  {
   "cell_type": "markdown",
   "metadata": {
    "id": "nAXmn74ghqlL"
   },
   "source": [
    "Water Quality Index\n",
    "\n",
    "\tWQI is computed for each factor as the product of Q-value and weighting factor. \n",
    "\n",
    "WQI = Q-value x Weighting factor\n",
    "\n",
    "The overall WQI is the weighted average of all Q-values:\n",
    "\n",
    "Overall WQI = (Q-value x Weighting factor) / Weighting factors\n",
    "\n",
    "\n"
   ]
  },
  {
   "cell_type": "code",
   "execution_count": 100,
   "metadata": {
    "id": "vHVcjb1-_Ra8"
   },
   "outputs": [],
   "source": [
    "# Initial factor values for each factor\n",
    "weight_factor = np.array([0.1333333333333333,0.2266666666666667,0.1466666666666667,0.1466666666666667,0.1333333333333333,0.2133333333333333]).reshape(6,1)"
   ]
  },
  {
   "cell_type": "code",
   "execution_count": 68,
   "metadata": {
    "colab": {
     "base_uri": "https://localhost:8080/",
     "height": 34
    },
    "id": "9ff0Aa8G2FMJ",
    "outputId": "782320c5-6a01-4ec4-95cf-21d274609a3f"
   },
   "outputs": [
    {
     "name": "stdout",
     "output_type": "stream",
     "text": [
      "6.6\n"
     ]
    }
   ],
   "source": [
    "map_do = {(0,5):[2,5],(5,10):[5,7],(10,15):[7,10],(15,20):[5,7],(15,20):[10,12],\n",
    "           (20,25):[12,15],(25,30):[15,19],(30,35):[19,23],\n",
    "           (35,40):[23,30],(40,45):[30,37],(45,50):[37,44],\n",
    "           (50,55):[44,51],(55,60):[51,57],(60,65):[57,66],\n",
    "           (65,70):[66,75],(70,75):[75,81],\n",
    "           (75,80):[81,87],(80,85):[87,91],\n",
    "           (85,90):[91,95],(90,95):[95,98],\n",
    "           (95,100):[98,99],(100,105):[99,98],\n",
    "           (105,110):[98,96],(110,115):[96,93],\n",
    "           (115,120):[93,90],(120,125):[90,87],\n",
    "           (125,130):[87,84],(130,135):[84,81],\n",
    "           (135,140):[81,78]}\n",
    "\n",
    "def q_do(val):\n",
    "  if val > 140:\n",
    "    return 50\n",
    "  for range in map_do:\n",
    "    if val == range[0]:\n",
    "      return map_do[range][0]\n",
    "    elif val == range[1]:\n",
    "      return map_do[range][1]\n",
    "    elif  range[0] < val < range[1]:\n",
    "      diff = (map_do[range][1] - map_do[range][0])/(range[1]-range[0])\n",
    "      res =  map_do[range][0] + diff * (val - range[0])\n",
    "      return res\n",
    "print(q_do(9))\n",
    "\n"
   ]
  },
  {
   "cell_type": "code",
   "execution_count": 69,
   "metadata": {
    "id": "FlswjtmwhfYC"
   },
   "outputs": [],
   "source": [
    "map_ph = {(2.2,2.4):[2,3],(2.4,2.6):[3,3],(2.6,2.8):[3,4],\n",
    "          (2.8,3):[4,4],(3,3.2):[4,5],(3.2,3.4):[5,6],\n",
    "          (3.4,3.6):[6,7],(3.6,3.8):[7,8],(3.8,4):[8,9],\n",
    "          (4,4.2):[9,11],(4.2,4.4):[11,14],(4.4,4.6):[14,17],\n",
    "          (4.6,4.8):[17,20],(4.8,5):[20,27],(5,5.2):[27,33],\n",
    "          (5.2,5.4):[33,38],(5.4,5.6):[38,44],(5.6,5.8):[44,49],\n",
    "          (5.8,6):[49,55],(6,6.2):[55,60],(6.2,6.4):[60,68],\n",
    "          (6.4,6.6):[68,75],(6.6,6.8):[75,83],(6.8,7):[83,88],\n",
    "          (7,7.2):[88,92],(7.2,7.4):[92,92],(7.4,7.6):[92,92],\n",
    "          (7.6,7.8):[92,90],(7.8,8):[90,84],(8,8.2):[84,77],\n",
    "          (8.2,8.4):[77,70],(8.4,8.6):[70,63],(8.6,8.8):[63,56],\n",
    "          (8.8,9):[56,49],(9,9.2):[49,42],(9.2,9.4):[42,36],\n",
    "          (9.4,9.6):[36,29],(9.6,9.8):[29,24],(9.8,10):[24,20],\n",
    "          (10,10.2):[20,17],(10.2,10.4):[17,14],(10.4,10.6):[14,12],\n",
    "          (10.6,10.8):[12,10],(10.8,11):[10,8],(11,11.2):[8,7],\n",
    "          (11.2,11.4):[7,6],(11.4,11.6):[6,5],(11.6,11.8):[5,4],\n",
    "          (11.8,12):[4,3]}\n",
    "\n",
    "def q_ph(val):\n",
    "  if val < 2 or val > 12:\n",
    "    return 0\n",
    "  for range in map_ph:\n",
    "    if val == range[0]:\n",
    "      return map_ph[range][0]\n",
    "    elif val == range[1]:\n",
    "      return map_ph[range][1]\n",
    "    elif range[0] < val < range[1]:\n",
    "      diff = (map_ph[range][1]-map_ph[range][0]) / (range[1]-range[0])\n",
    "      return map_ph[range][0]+diff*(val-range[0])"
   ]
  },
  {
   "cell_type": "code",
   "execution_count": 70,
   "metadata": {
    "colab": {
     "base_uri": "https://localhost:8080/",
     "height": 34
    },
    "id": "hwWLWtpIims6",
    "outputId": "2c174014-927d-4dc1-a2b9-837f031fbf74"
   },
   "outputs": [
    {
     "name": "stdout",
     "output_type": "stream",
     "text": [
      "73.5\n"
     ]
    }
   ],
   "source": [
    "map_bod = {(0,1):[100,95],(1,2):[95,80],(2,3):[80,67],\n",
    "            (3,4):[67,61],(4,5):[61,56],(5,6):[56,51],\n",
    "            (6,7):[51,46],(7,8):[46,42],(8,9):[42,38],\n",
    "            (9,10):[38,34],(10,11):[34,30],(11,12):[30,28],(12,13):[28,25],\n",
    "            (13,14):[25,23],(14,15):[23,20],(15,16):[20,18],(16,17):[18,16],\n",
    "            (17,18):[16,14],(18,19):[14,13],(19,20):[13,12],\n",
    "            (20,21):[12,11],(21,22):[11,10],(22,23):[10,9],(23,24):[9,8],\n",
    "            (24,25):[8,7],(25,26):[7,7],(26,27):[7,6],(27,28):[6,6],\n",
    "            (28,29):[6,5],(29,30):[5,5]\n",
    "            }\n",
    "def q_bod(val):\n",
    "  if val > 30:\n",
    "    return 2\n",
    "  for range in map_bod:\n",
    "    if val == range[0]:\n",
    "      return map_bod[range][0]\n",
    "    elif val == range[1]:\n",
    "      return map_bod[range][1]\n",
    "    elif range[0] < val < range[1]:\n",
    "      diff = (map_bod[range][1]-map_bod[range][0]) / (range[1]-range[0])\n",
    "      return map_bod[range][0]+diff*(val-range[0])\n",
    "      [range][0]+diff*(val-range[0])\n",
    "print(q_bod(2.5))\n"
   ]
  },
  {
   "cell_type": "code",
   "execution_count": 71,
   "metadata": {
    "id": "JTJ19131jLVl"
   },
   "outputs": [],
   "source": [
    "map_faecal = {(1,2):[99,91],(2,3):[91,86],(3,4):[86,82],(4,5):[82,80],\n",
    "              (5,6):[80,78],(6,7):[78,76],(7,8):[76,74],(8,9):[74,73],\n",
    "              (9,10):[73,72],(10,20):[72,63],(20,30):[63,58],(30,40):[58,55],\n",
    "              (40,50):[55,52],(50,60):[52,50],(60,70):[50,48],(70,80):[48,47],\n",
    "              (80,90):[47,45],(90,100):[45,44],(100,200):[44,37],(200,300):[37,34],\n",
    "              (300,400):[34,31],(400,500):[31,29],(500,600):[29,27],(600,700):[27,25],\n",
    "              (700,800):[25,24],(800,900):[24,23],(900,1000):[23,22],(1000,2000):[22,18],\n",
    "              (2000,3000):[18,16],(3000,4000):[16,15],(4000,5000):[15,14],\n",
    "              (5000,6000):[14,13],(6000,7000):[13,12],(7000,8000):[12,11],(8000,9000):[11,11],\n",
    "              (9000,10000):[11,10],(10000,20000):[10,8],(20000,30000):[8,7],\n",
    "              (30000,40000):[7,6],(40000,50000):[6,6],(50000,60000):[6,5],\n",
    "              (60000,70000):[5,5],(70000,80000):[5,5],(80000,90000):[5,4],\n",
    "              (90000,100000):[4,4]\n",
    "              }\n",
    "\n",
    "def q_faecal(val):\n",
    "    if val > 100000:\n",
    "        return 2\n",
    "    if val <= 0:\n",
    "        return 99\n",
    "    for range in map_faecal:\n",
    "        if val == range[0]:\n",
    "            return map_faecal[range][0]\n",
    "        elif val == range[1]:\n",
    "            return map_faecal[range][1]\n",
    "        elif range[0] < val < range[1]:\n",
    "            diff = (map_faecal[range][1]-map_faecal[range][0]) / (range[1]-range[0])\n",
    "            return map_faecal[range][0]+diff*(val-range[0])\n",
    "# print(q_faecal(2))"
   ]
  },
  {
   "cell_type": "code",
   "execution_count": 72,
   "metadata": {
    "id": "C3SYw8Z5jc-t"
   },
   "outputs": [],
   "source": [
    "map_nitrate = {(0,1):[97,96],(1,2):[96,95],(2,3):[95,90],(3,4):[90,70],\n",
    "               (4,5):[70,65],(5,6):[65,60],(6,7):[60,58],(7,8):[58,56],\n",
    "               (8,9):[56,53],(9,10):[53,51],(10,12):[51,48],(12,14):[48,45],\n",
    "               (14,16):[45,42],(16,18):[42,39],(18,20):[39,37],(20,22):[37,35],\n",
    "               (22,24):[35,33],(24,26):[33,31],(26,28):[31,29],(28,30):[29,27],\n",
    "               (30,32):[27,25],(32,34):[25,23],(34,36):[23,21],(36,38):[21,19],\n",
    "               (38,40):[19,18],(40,42):[18,16],(42,44):[16,15],(44,46):[15,13],\n",
    "               (46,48):[13,12],(48,50):[12,10],(50,52):[10,9],(52,54):[9,8],\n",
    "               (54,56):[8,8],(56,58):[8,7],(58,60):[7,7],(60,62):[7,6],\n",
    "               (62,64):[6,6],(64,66):[6,6],(66,68):[6,5],(68,70):[5,5],\n",
    "               (70,80):[5,4],(80,90):[4,3],(90,100):[3,3]\n",
    "}\n",
    "def q_nitrate(val):\n",
    "  if val > 100:\n",
    "    return 1\n",
    "  for range in map_nitrate:\n",
    "    if val == range[0]:\n",
    "      return map_nitrate[range][0]\n",
    "    elif val == range[1]:\n",
    "      return map_nitrate[range][1]\n",
    "    elif range[0] < val < range[1]:\n",
    "      diff = (map_nitrate[range][1]-map_nitrate[range][0]) / (range[1]-range[0])\n",
    "      return map_nitrate[range][0]+diff*(val-range[0])\n",
    "\n",
    "# print(q_nitrate(101))"
   ]
  },
  {
   "cell_type": "code",
   "execution_count": 73,
   "metadata": {
    "id": "6k7TcJuGmM9c"
   },
   "outputs": [],
   "source": [
    "map_temp={(-10, -9): [55,59],\n",
    " (-9, -8): [59,63],\n",
    " (-8, -7): [63,66],\n",
    " (-7, -6): [66,70],\n",
    " (-6, -5): [70,74],\n",
    " (-5, -4): [74,78],\n",
    " (-4, -3): [78,82],\n",
    " (-3, -2): [82,85],\n",
    " (-2, -1): [85,89],\n",
    " (-1, 0): [89,93],\n",
    " (0, 1): [93,89],\n",
    " (1, 2): [89,85],\n",
    " (2, 3): [85,81],\n",
    " (3, 4): [81,77],\n",
    " (4, 5): [77,73],\n",
    " (5, 6): [73,67],\n",
    " (6, 7): [67,61],\n",
    " (7, 8): [61,56],\n",
    " (8, 9): [56,50],\n",
    " (9, 10): [50,45],\n",
    " (10, 11): [45,40],\n",
    " (11, 12): [40,36],\n",
    " (12, 13): [36,34],\n",
    " (13, 14): [34,33],\n",
    " (14, 15): [33,31],\n",
    " (15, 16): [31,29],\n",
    " (16, 17): [29,27],\n",
    " (17, 18): [27,26],\n",
    " (18, 19): [26,24],\n",
    " (19, 20): [24,22],\n",
    " (20, 21): [22,20],\n",
    " (21, 22): [20,19],\n",
    " (22, 23): [19,18],\n",
    " (23, 24): [18,17],\n",
    " (24, 25): [17,16],\n",
    " (25, 26): [16,14],\n",
    " (26, 27): [14,13],\n",
    " (27, 28): [13,12],\n",
    " (28, 29): [12,11],\n",
    " (29, 30): [11,10],}\n",
    "\n",
    "\n",
    "\n",
    "def q_temp(val):\n",
    "  if val > 30:\n",
    "    return 10\n",
    "  if val < -10:\n",
    "    return 55\n",
    "  for range in map_temp:\n",
    "    if val == range[0]:\n",
    "      return map_temp[range][0]\n",
    "    elif val == range[1]:\n",
    "      return map_temp[range][1]\n",
    "    elif range[0] < val < range[1]:\n",
    "      diff = (map_temp[range][1]-map_temp[range][0]) / (range[1]-range[0])\n",
    "      return map_temp[range][0]+diff*(val-range[0])"
   ]
  },
  {
   "cell_type": "code",
   "execution_count": 116,
   "metadata": {
    "colab": {
     "base_uri": "https://localhost:8080/",
     "height": 252
    },
    "id": "lPMGbZlGn5_s",
    "outputId": "0984fa9d-e468-40bf-befa-fd90525b6840"
   },
   "outputs": [
    {
     "name": "stdout",
     "output_type": "stream",
     "text": [
      "      Temp    DO     pH    BOD  Nitrate  Faecal Coliform\n",
      "0     42.5  6.96  92.00  99.25  96.8000             91.0\n",
      "1     42.5  6.96  92.00  98.50  96.6500             91.0\n",
      "2     32.0  6.74  92.00  98.50  96.7000             91.0\n",
      "3     30.0  6.72  92.00  98.75  96.7300             91.0\n",
      "4     30.0  6.58  92.00  99.25  96.6435             91.0\n",
      "...    ...   ...    ...    ...      ...              ...\n",
      "1286  10.0  5.48  90.50  89.00  96.2000             25.7\n",
      "1287  11.5  5.50  92.00  63.10  96.3500             26.8\n",
      "1288  10.0  5.24  91.00  84.50  96.5000             27.4\n",
      "1289  10.0  5.70  82.25  92.75  96.4500             26.2\n",
      "1290  12.0  4.67  92.00   2.00  95.9000              2.0\n",
      "\n",
      "[1291 rows x 6 columns]\n"
     ]
    }
   ],
   "source": [
    "# numpy array\n",
    "# Temp\tDO\tpH\tBOD\tNitrate\tFaecal Coliform\n",
    "\n",
    "temp_df = final_df.copy(deep=True)\n",
    "\n",
    "temp_df['Temp'] = [q_temp(i) for i in temp_df['Temp']]\n",
    "temp_df['DO'] = [q_do(i) for i in temp_df['DO']]\n",
    "temp_df['pH'] = [q_ph(i) for i in temp_df['pH']]\n",
    "temp_df['BOD'] = [q_bod(i) for i in temp_df['BOD']]\n",
    "temp_df['Nitrate'] = [q_nitrate(i) for i in temp_df['Nitrate']]\n",
    "temp_df['Faecal Coliform'] = [q_faecal(i) for i in temp_df['Faecal Coliform']]\n",
    "print(temp_df)"
   ]
  },
  {
   "cell_type": "code",
   "execution_count": 75,
   "metadata": {
    "scrolled": true
   },
   "outputs": [
    {
     "data": {
      "text/html": [
       "<div>\n",
       "<style scoped>\n",
       "    .dataframe tbody tr th:only-of-type {\n",
       "        vertical-align: middle;\n",
       "    }\n",
       "\n",
       "    .dataframe tbody tr th {\n",
       "        vertical-align: top;\n",
       "    }\n",
       "\n",
       "    .dataframe thead th {\n",
       "        text-align: right;\n",
       "    }\n",
       "</style>\n",
       "<table border=\"1\" class=\"dataframe\">\n",
       "  <thead>\n",
       "    <tr style=\"text-align: right;\">\n",
       "      <th></th>\n",
       "      <th>Temp</th>\n",
       "      <th>DO</th>\n",
       "      <th>pH</th>\n",
       "      <th>BOD</th>\n",
       "      <th>Nitrate</th>\n",
       "      <th>Faecal Coliform</th>\n",
       "    </tr>\n",
       "  </thead>\n",
       "  <tbody>\n",
       "  </tbody>\n",
       "</table>\n",
       "</div>"
      ],
      "text/plain": [
       "Empty DataFrame\n",
       "Columns: [Temp, DO, pH, BOD, Nitrate, Faecal Coliform]\n",
       "Index: []"
      ]
     },
     "execution_count": 75,
     "metadata": {},
     "output_type": "execute_result"
    }
   ],
   "source": [
    "final_df[] = temp_df[temp_df.isna().any(axis=1)]"
   ]
  },
  {
   "cell_type": "code",
   "execution_count": 120,
   "metadata": {
    "id": "quUzKwq4KTpE"
   },
   "outputs": [],
   "source": [
    "final_df['WQI'] = np.dot(temp_df.values,weight_factor)"
   ]
  },
  {
   "cell_type": "code",
   "execution_count": 160,
   "metadata": {},
   "outputs": [
    {
     "data": {
      "text/html": [
       "<div>\n",
       "<style scoped>\n",
       "    .dataframe tbody tr th:only-of-type {\n",
       "        vertical-align: middle;\n",
       "    }\n",
       "\n",
       "    .dataframe tbody tr th {\n",
       "        vertical-align: top;\n",
       "    }\n",
       "\n",
       "    .dataframe thead th {\n",
       "        text-align: right;\n",
       "    }\n",
       "</style>\n",
       "<table border=\"1\" class=\"dataframe\">\n",
       "  <thead>\n",
       "    <tr style=\"text-align: right;\">\n",
       "      <th></th>\n",
       "      <th>Temp</th>\n",
       "      <th>DO</th>\n",
       "      <th>pH</th>\n",
       "      <th>BOD</th>\n",
       "    </tr>\n",
       "  </thead>\n",
       "  <tbody>\n",
       "    <tr>\n",
       "      <td>0</td>\n",
       "      <td>10.5</td>\n",
       "      <td>9.90</td>\n",
       "      <td>7.400</td>\n",
       "      <td>0.15</td>\n",
       "    </tr>\n",
       "    <tr>\n",
       "      <td>1</td>\n",
       "      <td>10.5</td>\n",
       "      <td>9.90</td>\n",
       "      <td>7.300</td>\n",
       "      <td>0.30</td>\n",
       "    </tr>\n",
       "    <tr>\n",
       "      <td>2</td>\n",
       "      <td>14.5</td>\n",
       "      <td>9.35</td>\n",
       "      <td>7.450</td>\n",
       "      <td>0.30</td>\n",
       "    </tr>\n",
       "    <tr>\n",
       "      <td>3</td>\n",
       "      <td>15.5</td>\n",
       "      <td>9.30</td>\n",
       "      <td>7.475</td>\n",
       "      <td>0.25</td>\n",
       "    </tr>\n",
       "    <tr>\n",
       "      <td>4</td>\n",
       "      <td>15.5</td>\n",
       "      <td>8.95</td>\n",
       "      <td>7.475</td>\n",
       "      <td>0.15</td>\n",
       "    </tr>\n",
       "    <tr>\n",
       "      <td>...</td>\n",
       "      <td>...</td>\n",
       "      <td>...</td>\n",
       "      <td>...</td>\n",
       "      <td>...</td>\n",
       "    </tr>\n",
       "    <tr>\n",
       "      <td>1286</td>\n",
       "      <td>30.0</td>\n",
       "      <td>6.20</td>\n",
       "      <td>7.750</td>\n",
       "      <td>1.40</td>\n",
       "    </tr>\n",
       "    <tr>\n",
       "      <td>1287</td>\n",
       "      <td>28.5</td>\n",
       "      <td>6.25</td>\n",
       "      <td>7.450</td>\n",
       "      <td>3.65</td>\n",
       "    </tr>\n",
       "    <tr>\n",
       "      <td>1288</td>\n",
       "      <td>30.0</td>\n",
       "      <td>5.60</td>\n",
       "      <td>7.700</td>\n",
       "      <td>1.70</td>\n",
       "    </tr>\n",
       "    <tr>\n",
       "      <td>1289</td>\n",
       "      <td>30.0</td>\n",
       "      <td>6.75</td>\n",
       "      <td>8.050</td>\n",
       "      <td>1.15</td>\n",
       "    </tr>\n",
       "    <tr>\n",
       "      <td>1290</td>\n",
       "      <td>28.0</td>\n",
       "      <td>4.45</td>\n",
       "      <td>7.500</td>\n",
       "      <td>42.90</td>\n",
       "    </tr>\n",
       "  </tbody>\n",
       "</table>\n",
       "<p>1291 rows × 4 columns</p>\n",
       "</div>"
      ],
      "text/plain": [
       "      Temp    DO     pH    BOD\n",
       "0     10.5  9.90  7.400   0.15\n",
       "1     10.5  9.90  7.300   0.30\n",
       "2     14.5  9.35  7.450   0.30\n",
       "3     15.5  9.30  7.475   0.25\n",
       "4     15.5  8.95  7.475   0.15\n",
       "...    ...   ...    ...    ...\n",
       "1286  30.0  6.20  7.750   1.40\n",
       "1287  28.5  6.25  7.450   3.65\n",
       "1288  30.0  5.60  7.700   1.70\n",
       "1289  30.0  6.75  8.050   1.15\n",
       "1290  28.0  4.45  7.500  42.90\n",
       "\n",
       "[1291 rows x 4 columns]"
      ]
     },
     "execution_count": 160,
     "metadata": {},
     "output_type": "execute_result"
    }
   ],
   "source": []
  },
  {
   "cell_type": "code",
   "execution_count": 161,
   "metadata": {},
   "outputs": [],
   "source": [
    "temp_df1['Temp'] = [q_temp(i) for i in temp_df1['Temp']]\n",
    "temp_df1['DO'] = [q_do(i) for i in temp_df1['DO']]\n",
    "temp_df1['pH'] = [q_ph(i) for i in temp_df1['pH']]\n",
    "temp_df1['BOD'] = [q_bod(i) for i in temp_df1['BOD']]"
   ]
  },
  {
   "cell_type": "code",
   "execution_count": 265,
   "metadata": {},
   "outputs": [],
   "source": [
    "weight_factor_xfac = np.array([0.1333333333333333,0.2266666666666667,0.1466666666666667,0.1466666666666667,0.1333333333333333,0.2133333333333333]).reshape(6,1)\n",
    "\n",
    "temp_df1 = final_df.copy(deep = True)\n",
    "\n",
    "temp_df2 = final_df.copy(deep = True)\n",
    "\n",
    "temp_df1['Temp'] = [q_temp(i) for i in temp_df1['Temp']]\n",
    "temp_df1['DO'] = [q_do(i) for i in temp_df1['DO']]\n",
    "temp_df1['pH'] = [q_ph(i) for i in temp_df1['pH']]\n",
    "temp_df1['BOD'] = [q_bod(i) for i in temp_df1['BOD']]\n",
    "temp_df1['Nitrate'] = [q_nitrate(i) for i in temp_df1['Nitrate']]\n",
    "temp_df1['Faecal Coliform'] = [q_faecal(i) for i in temp_df1['Faecal Coliform']]\n",
    "\n",
    "temp_df2['WQI'] = np.dot(temp_df1.values,weight_factor_xfac)/np.sum(weight_factor_xfac)"
   ]
  },
  {
   "cell_type": "code",
   "execution_count": 268,
   "metadata": {},
   "outputs": [
    {
     "name": "stderr",
     "output_type": "stream",
     "text": [
      "C:\\Users\\nkshe\\Anaconda3\\lib\\site-packages\\pandas\\core\\series.py:853: RuntimeWarning: divide by zero encountered in log10\n",
      "  result = getattr(ufunc, method)(*inputs, **kwargs)\n"
     ]
    }
   ],
   "source": [
    "import math\n",
    "temp_df2['Faecal Coliform Log'] = np.log10(temp_df2['Faecal Coliform'])"
   ]
  },
  {
   "cell_type": "code",
   "execution_count": 197,
   "metadata": {},
   "outputs": [
    {
     "data": {
      "text/plain": [
       "62.21322033898304"
      ]
     },
     "execution_count": 197,
     "metadata": {},
     "output_type": "execute_result"
    }
   ],
   "source": [
    "max(temp_df2['WQI'])"
   ]
  },
  {
   "cell_type": "code",
   "execution_count": 185,
   "metadata": {
    "id": "GQoYY-x2EtNZ"
   },
   "outputs": [],
   "source": [
    "from sklearn.model_selection import train_test_split \n",
    "from sklearn.linear_model import LinearRegression as lr"
   ]
  },
  {
   "cell_type": "code",
   "execution_count": 262,
   "metadata": {
    "colab": {
     "base_uri": "https://localhost:8080/",
     "height": 67
    },
    "id": "JSvl93Be9JAT",
    "outputId": "c5d34b6e-9639-432a-8818-fc95987690c3"
   },
   "outputs": [],
   "source": [
    "temp_df3 = temp_df2.copy(deep=True)\n",
    "data_final = temp_df3.values\n",
    "# np.random.shuffle(data_final)\n",
    "X = data_final[:,:-1]; y = data_final[:,-1]\n",
    "Xtrain,Xtest,ytrain,ytest = train_test_split(X, y ,test_size = 0.20)"
   ]
  },
  {
   "cell_type": "code",
   "execution_count": 263,
   "metadata": {
    "colab": {
     "base_uri": "https://localhost:8080/",
     "height": 354
    },
    "id": "9YYSexLWAdMA",
    "outputId": "4fd6eb53-233f-4c69-c15a-1d4c874e484a"
   },
   "outputs": [
    {
     "data": {
      "text/plain": [
       "0.34804709731536837"
      ]
     },
     "execution_count": 263,
     "metadata": {},
     "output_type": "execute_result"
    }
   ],
   "source": [
    "model = lr()\n",
    "model.fit(Xtrain,ytrain)\n",
    "model.score(Xtest,ytest)"
   ]
  },
  {
   "cell_type": "code",
   "execution_count": 264,
   "metadata": {
    "id": "tsgnG-3zHL3d"
   },
   "outputs": [
    {
     "name": "stdout",
     "output_type": "stream",
     "text": [
      "[-0.21072783  1.05196637 -1.50795187 -0.11472346 -0.05877419]\n"
     ]
    }
   ],
   "source": [
    "print(model.coef_)"
   ]
  },
  {
   "cell_type": "code",
   "execution_count": null,
   "metadata": {},
   "outputs": [],
   "source": []
  }
 ],
 "metadata": {
  "colab": {
   "collapsed_sections": [],
   "name": "MLProjectCode.ipynb",
   "provenance": [],
   "toc_visible": true
  },
  "kernelspec": {
   "display_name": "Python 3",
   "language": "python",
   "name": "python3"
  },
  "language_info": {
   "codemirror_mode": {
    "name": "ipython",
    "version": 3
   },
   "file_extension": ".py",
   "mimetype": "text/x-python",
   "name": "python",
   "nbconvert_exporter": "python",
   "pygments_lexer": "ipython3",
   "version": "3.7.4"
  }
 },
 "nbformat": 4,
 "nbformat_minor": 1
}
